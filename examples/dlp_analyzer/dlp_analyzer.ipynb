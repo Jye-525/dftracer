{
 "cells": [
  {
   "cell_type": "code",
   "execution_count": 1,
   "id": "86ed50dc-d4d6-4e78-be69-1d55b8362a46",
   "metadata": {},
   "outputs": [],
   "source": [
    "%load_ext autoreload"
   ]
  },
  {
   "cell_type": "code",
   "execution_count": 2,
   "id": "93bc48a5-30a9-4108-88a6-59861bddd0ce",
   "metadata": {},
   "outputs": [],
   "source": [
    "%autoreload 2"
   ]
  },
  {
   "cell_type": "code",
   "execution_count": 3,
   "id": "4a47492d-40d0-4dea-b1a2-aa1f083239e3",
   "metadata": {},
   "outputs": [],
   "source": [
    "import json\n",
    "import os\n",
    "import yaml\n",
    "from dask.distributed import Client"
   ]
  },
  {
   "cell_type": "code",
   "execution_count": 4,
   "id": "ef1dcd21-7001-47d4-b0e0-b9460b86556d",
   "metadata": {},
   "outputs": [],
   "source": [
    "with open('/g/g92/haridev/.dlio_profiler/configuration.yaml', 'r') as file:\n",
    "    dlp_yaml = yaml.safe_load(file)"
   ]
  },
  {
   "cell_type": "code",
   "execution_count": 5,
   "id": "c310a43c-006c-4c36-9d54-d7056e9c0519",
   "metadata": {},
   "outputs": [
    {
     "data": {
      "text/plain": [
       "['/usr/WS2/haridev/dlio-profiler',\n",
       " '/usr/WS2/haridev/dlio-profiler/examples/dlp_analyzer',\n",
       " '/usr/WS2/haridev/dlio-profiler/examples/dlp_analyzer',\n",
       " '/usr/workspace/iopp/projects/digio',\n",
       " '/collab/usr/gapps/python/build/spack-toss4.1/var/spack/environments/python/._view/75prb56irmif5ejtirjthpx6kq3gqo52/lib/python39.zip',\n",
       " '/collab/usr/gapps/python/build/spack-toss4.1/var/spack/environments/python/._view/75prb56irmif5ejtirjthpx6kq3gqo52/lib/python3.9',\n",
       " '/collab/usr/gapps/python/build/spack-toss4.1/var/spack/environments/python/._view/75prb56irmif5ejtirjthpx6kq3gqo52/lib/python3.9/lib-dynload',\n",
       " '',\n",
       " '/usr/WS2/haridev/venvs/venv-dlp_analuzer/lib/python3.9/site-packages']"
      ]
     },
     "execution_count": 5,
     "metadata": {},
     "output_type": "execute_result"
    }
   ],
   "source": [
    "# to make this notebook in dev mode.\n",
    "import sys\n",
    "sys.path.insert(0,dlp_yaml[\"APP\"])\n",
    "sys.path"
   ]
  },
  {
   "cell_type": "code",
   "execution_count": 6,
   "id": "89d58cc4-dd7a-47f8-82a6-6ef2ea9a2bc0",
   "metadata": {},
   "outputs": [
    {
     "name": "stdout",
     "output_type": "stream",
     "text": [
      "/usr/WS2/haridev/dlio-profiler/dlp_analyzer/__init__.py\n"
     ]
    }
   ],
   "source": [
    "import dlp_analyzer\n",
    "print(dlp_analyzer.__file__)\n",
    "from dlp_analyzer.main import DLPAnalyzer,get_dlp_configuration,update_dlp_configuration,setup_logging,setup_dask_cluster, reset_dask_cluster, get_dlp_configuration"
   ]
  },
  {
   "cell_type": "code",
   "execution_count": 7,
   "id": "dd08b66c-595c-4341-813c-7fabbaf70273",
   "metadata": {},
   "outputs": [
    {
     "data": {
      "text/plain": [
       "'/usr/WS2/haridev/dlio-profiler/dlp_analyzer/dask/run_dir'"
      ]
     },
     "execution_count": 7,
     "metadata": {},
     "output_type": "execute_result"
    }
   ],
   "source": [
    "dask_run_dir = os.path.join(dlp_yaml[\"APP\"], \"dlp_analyzer\", \"dask\", \"run_dir\")\n",
    "dask_run_dir"
   ]
  },
  {
   "cell_type": "code",
   "execution_count": 8,
   "id": "43ec9989-5d6e-438c-8d34-0554d47deb69",
   "metadata": {},
   "outputs": [
    {
     "data": {
      "text/plain": [
       "{'type': 'Scheduler',\n",
       " 'id': 'Scheduler-49282d5e-c1cb-4278-b27b-a8ae5142ab07',\n",
       " 'address': 'tcp://134.9.71.20:10001',\n",
       " 'services': {'dashboard': 41547},\n",
       " 'started': 1698301148.9001098,\n",
       " 'workers': {}}"
      ]
     },
     "execution_count": 8,
     "metadata": {},
     "output_type": "execute_result"
    }
   ],
   "source": [
    "with open (os.path.join(dask_run_dir, \"scheduler.json\"), \"r\") as f:\n",
    "    dask_scheduler = json.load(f)\n",
    "dask_scheduler"
   ]
  },
  {
   "cell_type": "code",
   "execution_count": 9,
   "id": "d3a7cf5b-fbbc-4eee-9ed5-ce869f4541e6",
   "metadata": {},
   "outputs": [],
   "source": [
    "conf = update_dlp_configuration(dask_scheduler=dask_scheduler[\"address\"], verbose=True, log_file=\"./dlp.log\", rebuild_index=False, time_approximate=True, host_pattern=r'ruby(\\d+)')\n"
   ]
  },
  {
   "cell_type": "code",
   "execution_count": 10,
   "id": "9ae31f27-a26a-463a-b2e9-3adba8de7246",
   "metadata": {},
   "outputs": [
    {
     "data": {
      "text/plain": [
       "True"
      ]
     },
     "execution_count": 10,
     "metadata": {},
     "output_type": "execute_result"
    }
   ],
   "source": [
    "conf = get_dlp_configuration()\n",
    "conf.time_approximate"
   ]
  },
  {
   "cell_type": "code",
   "execution_count": 11,
   "id": "04428959-820f-4466-8ceb-778bcce93bf0",
   "metadata": {},
   "outputs": [],
   "source": [
    "setup_logging()"
   ]
  },
  {
   "cell_type": "code",
   "execution_count": 12,
   "id": "68e813b7-6b95-4f31-b223-1fb50774db50",
   "metadata": {},
   "outputs": [
    {
     "name": "stderr",
     "output_type": "stream",
     "text": [
      "[INFO] [15:48:38] Initialized Client with 48 workers and link http://134.9.71.20:41547/status [/usr/WS2/haridev/dlio-profiler/dlp_analyzer/main.py:563]\n"
     ]
    }
   ],
   "source": [
    "setup_dask_cluster()"
   ]
  },
  {
   "cell_type": "code",
   "execution_count": 13,
   "id": "236e50a4-03b6-4895-a0a5-d473f5e391b5",
   "metadata": {},
   "outputs": [
    {
     "name": "stderr",
     "output_type": "stream",
     "text": [
      "[INFO] [15:49:58] Restarting all workers [/usr/WS2/haridev/dlio-profiler/dlp_analyzer/main.py:555]\n"
     ]
    }
   ],
   "source": [
    "reset_dask_cluster()"
   ]
  },
  {
   "cell_type": "code",
   "execution_count": 14,
   "id": "face72a1-485a-4168-b87a-2171aad37691",
   "metadata": {},
   "outputs": [],
   "source": [
    "filename = \"/p/lustre1/iopp/dlp/cosmoflow-profile-compress-meta-scale-all-512/.trace*.pfw.gz\"\n",
    "#filename = \"/p/lustre1/iopp/dlp/cosmoflow-profile-compress-meta-scale-all-512/.trace-3*-of-512.pfw.gz\"\n",
    "filename = \"/usr/workspace/iopp/kogiou1/dlio_benchmark_logs/unet3d/node_32_ppn_4/.trace*.pfw.gz\""
   ]
  },
  {
   "cell_type": "code",
   "execution_count": 15,
   "id": "b37727ee-a221-43ab-81e1-cdf98c2cf314",
   "metadata": {},
   "outputs": [
    {
     "name": "stderr",
     "output_type": "stream",
     "text": [
      "[INFO] [15:50:00] Created index for 128 files [/usr/WS2/haridev/dlio-profiler/dlp_analyzer/main.py:296]\n",
      "[INFO] [15:50:00] Total size of all files are <dask.bag.core.Item object at 0x1554a9267640> bytes [/usr/WS2/haridev/dlio-profiler/dlp_analyzer/main.py:298]\n",
      "[INFO] [15:50:00] Loading 768 batches out of 128 files and has 11996460 lines overall [/usr/WS2/haridev/dlio-profiler/dlp_analyzer/main.py:311]\n",
      "[INFO] [15:50:12] Loaded events [/usr/WS2/haridev/dlio-profiler/dlp_analyzer/main.py:342]\n"
     ]
    }
   ],
   "source": [
    "analyzer = DLPAnalyzer(filename, time_granularity=10e6)"
   ]
  },
  {
   "cell_type": "code",
   "execution_count": 16,
   "id": "556446aa-52a0-4bd0-b650-ab6a9c4ed68c",
   "metadata": {},
   "outputs": [
    {
     "data": {
      "text/plain": [
       "0    ruby165\n",
       "1    ruby926\n",
       "Name: hostname, dtype: string"
      ]
     },
     "execution_count": 16,
     "metadata": {},
     "output_type": "execute_result"
    }
   ],
   "source": [
    "analyzer.events[\"hostname\"].unique().compute()[:2]"
   ]
  },
  {
   "cell_type": "code",
   "execution_count": 17,
   "id": "f057a7a8-e3b3-4ed6-b1b9-769d52c7be4d",
   "metadata": {},
   "outputs": [
    {
     "name": "stderr",
     "output_type": "stream",
     "text": [
      "[INFO] [15:50:12] Total number of events in the workload are 11996204 [/usr/WS2/haridev/dlio-profiler/dlp_analyzer/main.py:432]\n",
      "/usr/WS2/haridev/venvs/venv-dlp_analuzer/lib/python3.9/site-packages/dask/dataframe/core.py:5983: UserWarning: \n",
      "You did not provide metadata, so Dask is running your function on a small dataset to guess output types. It is possible that Dask will guess incorrectly.\n",
      "To provide an explicit output types or to silence this message, please provide the `meta=` keyword, as described in the map or apply function that you are using.\n",
      "  Before: .apply(func)\n",
      "  After:  .apply(func, meta=(None, 'int64'))\n",
      "\n",
      "  warnings.warn(meta_warning(meta))\n",
      "/usr/WS2/haridev/venvs/venv-dlp_analuzer/lib/python3.9/site-packages/dask/dataframe/core.py:5983: UserWarning: \n",
      "You did not provide metadata, so Dask is running your function on a small dataset to guess output types. It is possible that Dask will guess incorrectly.\n",
      "To provide an explicit output types or to silence this message, please provide the `meta=` keyword, as described in the map or apply function that you are using.\n",
      "  Before: .apply(func)\n",
      "  After:  .apply(func, meta=(None, 'int64'))\n",
      "\n",
      "  warnings.warn(meta_warning(meta))\n",
      "/usr/WS2/haridev/venvs/venv-dlp_analuzer/lib/python3.9/site-packages/dask/dataframe/core.py:5983: UserWarning: \n",
      "You did not provide metadata, so Dask is running your function on a small dataset to guess output types. It is possible that Dask will guess incorrectly.\n",
      "To provide an explicit output types or to silence this message, please provide the `meta=` keyword, as described in the map or apply function that you are using.\n",
      "  Before: .apply(func)\n",
      "  After:  .apply(func, meta=(None, 'int64'))\n",
      "\n",
      "  warnings.warn(meta_warning(meta))\n",
      "/usr/WS2/haridev/venvs/venv-dlp_analuzer/lib/python3.9/site-packages/dask/dataframe/core.py:5983: UserWarning: \n",
      "You did not provide metadata, so Dask is running your function on a small dataset to guess output types. It is possible that Dask will guess incorrectly.\n",
      "To provide an explicit output types or to silence this message, please provide the `meta=` keyword, as described in the map or apply function that you are using.\n",
      "  Before: .apply(func)\n",
      "  After:  .apply(func, meta=(None, 'int64'))\n",
      "\n",
      "  warnings.warn(meta_warning(meta))\n",
      "[INFO] [15:50:12] Approximate True 192554968.0, 54486394.0, 6837825.0, 0.0,                47648569.0, 0.0, 0.0, 6837825.0 [/usr/WS2/haridev/dlio-profiler/dlp_analyzer/main.py:389]\n",
      "[INFO] [15:50:13] Created regex value 165 [/usr/WS2/haridev/dlio-profiler/dlp_analyzer/main.py:419]\n",
      "[INFO] [15:50:13] List after removing numbers ['/p/lustreX/kogiouX/dlio_benchmark_results/unetXd/valid', '/p/lustreX/kogiouX/dlio_benchmark_results/unetXd/train/img_XXX_of_XXX.npz', '<NA>', '/p/lustreX/kogiouX/dlio_benchmark_results/unetXd/train'] [/usr/WS2/haridev/dlio-profiler/dlp_analyzer/main.py:427]\n",
      "[INFO] [15:50:13] Created an interval of [0,127] [/usr/WS2/haridev/dlio-profiler/dlp_analyzer/main.py:401]\n"
     ]
    },
    {
     "data": {
      "text/html": [
       "<pre style=\"white-space:pre;overflow-x:auto;line-height:normal;font-family:Menlo,'DejaVu Sans Mono',consolas,'Courier New',monospace\">╭──────────────────────────────────────────────────── Summary ────────────────────────────────────────────────────╮\n",
       "│ <span style=\"color: #008080; text-decoration-color: #008080\"> Allocation   </span> Scheduler Allocation Details                                                                     │\n",
       "│ <span style=\"color: #008080; text-decoration-color: #008080\">              </span> ├── Nodes: 32 ruby[165,1253]                                                                     │\n",
       "│ <span style=\"color: #008080; text-decoration-color: #008080\">              </span> ├── Processes: 128 [0,127]                                                                       │\n",
       "│ <span style=\"color: #008080; text-decoration-color: #008080\">              </span> ├── Thread allocations across nodes (includes dynamically created threads)                       │\n",
       "│ <span style=\"color: #008080; text-decoration-color: #008080\">              </span> │   ├── Compute: 128                                                                             │\n",
       "│ <span style=\"color: #008080; text-decoration-color: #008080\">              </span> │   └── I/O: 2304                                                                                │\n",
       "│ <span style=\"color: #008080; text-decoration-color: #008080\">              </span> └── Events Recorded: 11996204                                                                    │\n",
       "│ <span style=\"color: #008080; text-decoration-color: #008080\"> Dataset      </span> Description of Dataset Used                                                                      │\n",
       "│ <span style=\"color: #008080; text-decoration-color: #008080\">              </span> └── Files: 171 ['/p/lustreX/kogiouX/dlio_benchmark_results/unetXd/valid',                        │\n",
       "│ <span style=\"color: #008080; text-decoration-color: #008080\">              </span>     '/p/lustreX/kogiouX/dlio_benchmark_results/unetXd/train/img_XXX_of_XXX.npz', '&lt;NA&gt;',         │\n",
       "│ <span style=\"color: #008080; text-decoration-color: #008080\">              </span>     '/p/lustreX/kogiouX/dlio_benchmark_results/unetXd/train']                                    │\n",
       "│ <span style=\"color: #008080; text-decoration-color: #008080\"> I/O Behavior </span> Behavior of Application                                                                          │\n",
       "│ <span style=\"color: #008080; text-decoration-color: #008080\">              </span> ├── Split of Time in application                                                                 │\n",
       "│ <span style=\"color: #008080; text-decoration-color: #008080\">              </span> │   ├── Compute: 6.838 sec                                                                       │\n",
       "│ <span style=\"color: #008080; text-decoration-color: #008080\">              </span> │   ├── Overall I/O: 54.486 sec                                                                  │\n",
       "│ <span style=\"color: #008080; text-decoration-color: #008080\">              </span> │   ├── Unoverlapped I/O: 47.649 sec                                                             │\n",
       "│ <span style=\"color: #008080; text-decoration-color: #008080\">              </span> │   └── Unoverlapped Compute: 0.000 sec                                                          │\n",
       "│ <span style=\"color: #008080; text-decoration-color: #008080\">              </span> ├── Transfer size distribution by function                                                       │\n",
       "│ <span style=\"color: #008080; text-decoration-color: #008080\">              </span> │   ├── Function       |min   |25    |mean  |median|75    |max   |                               │\n",
       "│ <span style=\"color: #008080; text-decoration-color: #008080\">              </span> │   ├── opendir        |NA    |nan   |nan   |NA    |nan   |NA    |                               │\n",
       "│ <span style=\"color: #008080; text-decoration-color: #008080\">              </span> │   ├── __xstat64      |NA    |nan   |nan   |NA    |nan   |NA    |                               │\n",
       "│ <span style=\"color: #008080; text-decoration-color: #008080\">              </span> │   ├── open64         |NA    |nan   |nan   |NA    |nan   |NA    |                               │\n",
       "│ <span style=\"color: #008080; text-decoration-color: #008080\">              </span> │   ├── __fxstat64     |NA    |nan   |nan   |NA    |nan   |NA    |                               │\n",
       "│ <span style=\"color: #008080; text-decoration-color: #008080\">              </span> │   ├── lseek64        |NA    |nan   |nan   |NA    |nan   |NA    |                               │\n",
       "│ <span style=\"color: #008080; text-decoration-color: #008080\">              </span> │   ├── read           |NA    |4MB   |4MB   |4MB   |4MB   |4MB   |                               │\n",
       "│ <span style=\"color: #008080; text-decoration-color: #008080\">              </span> │   └── close          |NA    |nan   |nan   |NA    |nan   |NA    |                               │\n",
       "│ <span style=\"color: #008080; text-decoration-color: #008080\">              </span> └── Event count by function                                                                      │\n",
       "│ <span style=\"color: #008080; text-decoration-color: #008080\">              </span>     ├── opendir : 5372                                                                           │\n",
       "│ <span style=\"color: #008080; text-decoration-color: #008080\">              </span>     ├── __xstat64 : 5372                                                                         │\n",
       "│ <span style=\"color: #008080; text-decoration-color: #008080\">              </span>     ├── open64 : 17822                                                                           │\n",
       "│ <span style=\"color: #008080; text-decoration-color: #008080\">              </span>     ├── __fxstat64 : 35614                                                                       │\n",
       "│ <span style=\"color: #008080; text-decoration-color: #008080\">              </span>     ├── lseek64 : 10442002                                                                       │\n",
       "│ <span style=\"color: #008080; text-decoration-color: #008080\">              </span>     ├── read : 732133                                                                            │\n",
       "│ <span style=\"color: #008080; text-decoration-color: #008080\">              </span>     └── close : 15288                                                                            │\n",
       "╰─────────────────────────────────────────────────────────────────────────────────────────────────────────────────╯\n",
       "</pre>\n"
      ],
      "text/plain": [
       "╭──────────────────────────────────────────────────── Summary ────────────────────────────────────────────────────╮\n",
       "│ \u001b[36m \u001b[0m\u001b[36mAllocation  \u001b[0m\u001b[36m \u001b[0m Scheduler Allocation Details                                                                     │\n",
       "│ \u001b[36m              \u001b[0m ├── Nodes: 32 ruby[165,1253]                                                                     │\n",
       "│ \u001b[36m              \u001b[0m ├── Processes: 128 [0,127]                                                                       │\n",
       "│ \u001b[36m              \u001b[0m ├── Thread allocations across nodes (includes dynamically created threads)                       │\n",
       "│ \u001b[36m              \u001b[0m │   ├── Compute: 128                                                                             │\n",
       "│ \u001b[36m              \u001b[0m │   └── I/O: 2304                                                                                │\n",
       "│ \u001b[36m              \u001b[0m └── Events Recorded: 11996204                                                                    │\n",
       "│ \u001b[36m \u001b[0m\u001b[36mDataset     \u001b[0m\u001b[36m \u001b[0m Description of Dataset Used                                                                      │\n",
       "│ \u001b[36m              \u001b[0m └── Files: 171 ['/p/lustreX/kogiouX/dlio_benchmark_results/unetXd/valid',                        │\n",
       "│ \u001b[36m              \u001b[0m     '/p/lustreX/kogiouX/dlio_benchmark_results/unetXd/train/img_XXX_of_XXX.npz', '<NA>',         │\n",
       "│ \u001b[36m              \u001b[0m     '/p/lustreX/kogiouX/dlio_benchmark_results/unetXd/train']                                    │\n",
       "│ \u001b[36m \u001b[0m\u001b[36mI/O Behavior\u001b[0m\u001b[36m \u001b[0m Behavior of Application                                                                          │\n",
       "│ \u001b[36m              \u001b[0m ├── Split of Time in application                                                                 │\n",
       "│ \u001b[36m              \u001b[0m │   ├── Compute: 6.838 sec                                                                       │\n",
       "│ \u001b[36m              \u001b[0m │   ├── Overall I/O: 54.486 sec                                                                  │\n",
       "│ \u001b[36m              \u001b[0m │   ├── Unoverlapped I/O: 47.649 sec                                                             │\n",
       "│ \u001b[36m              \u001b[0m │   └── Unoverlapped Compute: 0.000 sec                                                          │\n",
       "│ \u001b[36m              \u001b[0m ├── Transfer size distribution by function                                                       │\n",
       "│ \u001b[36m              \u001b[0m │   ├── Function       |min   |25    |mean  |median|75    |max   |                               │\n",
       "│ \u001b[36m              \u001b[0m │   ├── opendir        |NA    |nan   |nan   |NA    |nan   |NA    |                               │\n",
       "│ \u001b[36m              \u001b[0m │   ├── __xstat64      |NA    |nan   |nan   |NA    |nan   |NA    |                               │\n",
       "│ \u001b[36m              \u001b[0m │   ├── open64         |NA    |nan   |nan   |NA    |nan   |NA    |                               │\n",
       "│ \u001b[36m              \u001b[0m │   ├── __fxstat64     |NA    |nan   |nan   |NA    |nan   |NA    |                               │\n",
       "│ \u001b[36m              \u001b[0m │   ├── lseek64        |NA    |nan   |nan   |NA    |nan   |NA    |                               │\n",
       "│ \u001b[36m              \u001b[0m │   ├── read           |NA    |4MB   |4MB   |4MB   |4MB   |4MB   |                               │\n",
       "│ \u001b[36m              \u001b[0m │   └── close          |NA    |nan   |nan   |NA    |nan   |NA    |                               │\n",
       "│ \u001b[36m              \u001b[0m └── Event count by function                                                                      │\n",
       "│ \u001b[36m              \u001b[0m     ├── opendir : 5372                                                                           │\n",
       "│ \u001b[36m              \u001b[0m     ├── __xstat64 : 5372                                                                         │\n",
       "│ \u001b[36m              \u001b[0m     ├── open64 : 17822                                                                           │\n",
       "│ \u001b[36m              \u001b[0m     ├── __fxstat64 : 35614                                                                       │\n",
       "│ \u001b[36m              \u001b[0m     ├── lseek64 : 10442002                                                                       │\n",
       "│ \u001b[36m              \u001b[0m     ├── read : 732133                                                                            │\n",
       "│ \u001b[36m              \u001b[0m     └── close : 15288                                                                            │\n",
       "╰─────────────────────────────────────────────────────────────────────────────────────────────────────────────────╯\n"
      ]
     },
     "metadata": {},
     "output_type": "display_data"
    }
   ],
   "source": [
    "items = analyzer.summary()\n",
    "items"
   ]
  },
  {
   "cell_type": "code",
   "execution_count": null,
   "id": "e52cb7e7-5d51-4126-888b-ee847222b988",
   "metadata": {},
   "outputs": [],
   "source": []
  },
  {
   "cell_type": "code",
   "execution_count": null,
   "id": "53cfa467-4b5c-4a2f-bff3-196dd3d92225",
   "metadata": {},
   "outputs": [],
   "source": []
  }
 ],
 "metadata": {
  "kernelspec": {
   "display_name": "Python 3 (ipykernel)",
   "language": "python",
   "name": "python3"
  },
  "language_info": {
   "codemirror_mode": {
    "name": "ipython",
    "version": 3
   },
   "file_extension": ".py",
   "mimetype": "text/x-python",
   "name": "python",
   "nbconvert_exporter": "python",
   "pygments_lexer": "ipython3",
   "version": "3.9.12"
  }
 },
 "nbformat": 4,
 "nbformat_minor": 5
}
