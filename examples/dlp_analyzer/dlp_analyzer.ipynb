{
 "cells": [
  {
   "cell_type": "code",
   "execution_count": 1,
   "id": "86ed50dc-d4d6-4e78-be69-1d55b8362a46",
   "metadata": {},
   "outputs": [],
   "source": [
    "%load_ext autoreload"
   ]
  },
  {
   "cell_type": "code",
   "execution_count": 2,
   "id": "93bc48a5-30a9-4108-88a6-59861bddd0ce",
   "metadata": {},
   "outputs": [],
   "source": [
    "%autoreload 2"
   ]
  },
  {
   "cell_type": "code",
   "execution_count": 3,
   "id": "4a47492d-40d0-4dea-b1a2-aa1f083239e3",
   "metadata": {},
   "outputs": [],
   "source": [
    "import json\n",
    "import os\n",
    "import yaml\n",
    "from dask.distributed import Client"
   ]
  },
  {
   "cell_type": "code",
   "execution_count": 4,
   "id": "ef1dcd21-7001-47d4-b0e0-b9460b86556d",
   "metadata": {},
   "outputs": [],
   "source": [
    "with open('/g/g92/haridev/.dlio_profiler/configuration.yaml', 'r') as file:\n",
    "    dlp_yaml = yaml.safe_load(file)"
   ]
  },
  {
   "cell_type": "code",
   "execution_count": 5,
   "id": "c310a43c-006c-4c36-9d54-d7056e9c0519",
   "metadata": {},
   "outputs": [
    {
     "data": {
      "text/plain": [
       "['/usr/WS2/haridev/dlio-profiler',\n",
       " '/usr/WS2/haridev/dlio-profiler/examples/dlp_analyzer',\n",
       " '/usr/WS2/haridev/dlio-profiler/examples/dlp_analyzer',\n",
       " '/usr/workspace/iopp/projects/digio',\n",
       " '/collab/usr/gapps/python/build/spack-toss4.1/var/spack/environments/python/._view/75prb56irmif5ejtirjthpx6kq3gqo52/lib/python39.zip',\n",
       " '/collab/usr/gapps/python/build/spack-toss4.1/var/spack/environments/python/._view/75prb56irmif5ejtirjthpx6kq3gqo52/lib/python3.9',\n",
       " '/collab/usr/gapps/python/build/spack-toss4.1/var/spack/environments/python/._view/75prb56irmif5ejtirjthpx6kq3gqo52/lib/python3.9/lib-dynload',\n",
       " '',\n",
       " '/usr/WS2/haridev/venvs/venv-dlp_analuzer/lib/python3.9/site-packages']"
      ]
     },
     "execution_count": 5,
     "metadata": {},
     "output_type": "execute_result"
    }
   ],
   "source": [
    "# to make this notebook in dev mode.\n",
    "import sys\n",
    "sys.path.insert(0,dlp_yaml[\"APP\"])\n",
    "sys.path"
   ]
  },
  {
   "cell_type": "code",
   "execution_count": 6,
   "id": "89d58cc4-dd7a-47f8-82a6-6ef2ea9a2bc0",
   "metadata": {},
   "outputs": [
    {
     "name": "stdout",
     "output_type": "stream",
     "text": [
      "/usr/WS2/haridev/dlio-profiler/dlp_analyzer/__init__.py\n"
     ]
    }
   ],
   "source": [
    "import dlp_analyzer\n",
    "print(dlp_analyzer.__file__)\n",
    "from dlp_analyzer.main import DLPAnalyzer,get_dlp_configuration,update_dlp_configuration,setup_logging,setup_dask_cluster, reset_dask_cluster, get_dlp_configuration"
   ]
  },
  {
   "cell_type": "code",
   "execution_count": 7,
   "id": "dd08b66c-595c-4341-813c-7fabbaf70273",
   "metadata": {},
   "outputs": [
    {
     "data": {
      "text/plain": [
       "'/usr/WS2/haridev/dlio-profiler/dlp_analyzer/dask/run_dir'"
      ]
     },
     "execution_count": 7,
     "metadata": {},
     "output_type": "execute_result"
    }
   ],
   "source": [
    "dask_run_dir = os.path.join(dlp_yaml[\"APP\"], \"dlp_analyzer\", \"dask\", \"run_dir\")\n",
    "dask_run_dir"
   ]
  },
  {
   "cell_type": "code",
   "execution_count": 8,
   "id": "43ec9989-5d6e-438c-8d34-0554d47deb69",
   "metadata": {},
   "outputs": [
    {
     "data": {
      "text/plain": [
       "{'type': 'Scheduler',\n",
       " 'id': 'Scheduler-89209c3b-66f7-4b23-9420-c0d0848be547',\n",
       " 'address': 'tcp://134.9.71.27:10001',\n",
       " 'services': {'dashboard': 8787},\n",
       " 'started': 1698518019.2896266,\n",
       " 'workers': {}}"
      ]
     },
     "execution_count": 8,
     "metadata": {},
     "output_type": "execute_result"
    }
   ],
   "source": [
    "with open (os.path.join(dask_run_dir, \"scheduler.json\"), \"r\") as f:\n",
    "    dask_scheduler = json.load(f)\n",
    "dask_scheduler"
   ]
  },
  {
   "cell_type": "code",
   "execution_count": 9,
   "id": "d3a7cf5b-fbbc-4eee-9ed5-ce869f4541e6",
   "metadata": {},
   "outputs": [],
   "source": [
    "conf = update_dlp_configuration(dask_scheduler=dask_scheduler[\"address\"], verbose=True, log_file=\"./dlp.log\", rebuild_index=False, time_approximate=True, host_pattern=r'ruby(\\d+)', time_granularity=30e6)\n"
   ]
  },
  {
   "cell_type": "code",
   "execution_count": 10,
   "id": "9ae31f27-a26a-463a-b2e9-3adba8de7246",
   "metadata": {},
   "outputs": [
    {
     "data": {
      "text/plain": [
       "True"
      ]
     },
     "execution_count": 10,
     "metadata": {},
     "output_type": "execute_result"
    }
   ],
   "source": [
    "conf = get_dlp_configuration()\n",
    "conf.time_approximate"
   ]
  },
  {
   "cell_type": "code",
   "execution_count": 11,
   "id": "04428959-820f-4466-8ceb-778bcce93bf0",
   "metadata": {},
   "outputs": [],
   "source": [
    "setup_logging()"
   ]
  },
  {
   "cell_type": "code",
   "execution_count": 18,
   "id": "68e813b7-6b95-4f31-b223-1fb50774db50",
   "metadata": {},
   "outputs": [
    {
     "name": "stderr",
     "output_type": "stream",
     "text": [
      "[INFO] [21:45:48] Initialized Client with 192 workers and link http://134.9.71.27:8787/status [/usr/WS2/haridev/dlio-profiler/dlp_analyzer/main.py:594]\n"
     ]
    }
   ],
   "source": [
    "setup_dask_cluster()"
   ]
  },
  {
   "cell_type": "code",
   "execution_count": 13,
   "id": "236e50a4-03b6-4895-a0a5-d473f5e391b5",
   "metadata": {},
   "outputs": [
    {
     "name": "stderr",
     "output_type": "stream",
     "text": [
      "[INFO] [21:45:39] Restarting all workers [/usr/WS2/haridev/dlio-profiler/dlp_analyzer/main.py:586]\n"
     ]
    }
   ],
   "source": [
    "reset_dask_cluster()"
   ]
  },
  {
   "cell_type": "code",
   "execution_count": 14,
   "id": "face72a1-485a-4168-b87a-2171aad37691",
   "metadata": {},
   "outputs": [],
   "source": [
    "filename = \"/p/lustre1/iopp/dlp/cosmoflow-profile-compress-meta-scale-all-512/.trace*.pfw.gz\"\n",
    "#filename = \"/p/lustre1/iopp/dlp/cosmoflow-profile-compress-meta-scale-all-512/.trace-3*-of-512.pfw.gz\"\n",
    "filename = \"/usr/workspace/iopp/kogiou1/dlio_benchmark_logs/unet3d/node_32_ppn_4/.trace*.pfw.gz\""
   ]
  },
  {
   "cell_type": "code",
   "execution_count": 15,
   "id": "b37727ee-a221-43ab-81e1-cdf98c2cf314",
   "metadata": {},
   "outputs": [
    {
     "name": "stderr",
     "output_type": "stream",
     "text": [
      "[INFO] [21:45:41] Created index for 128 files [/usr/WS2/haridev/dlio-profiler/dlp_analyzer/main.py:320]\n",
      "[INFO] [21:45:41] Total size of all files are <dask.bag.core.Item object at 0x1554a7cfb7c0> bytes [/usr/WS2/haridev/dlio-profiler/dlp_analyzer/main.py:322]\n",
      "[INFO] [21:45:42] Loading 768 batches out of 128 files and has 11996460 lines overall [/usr/WS2/haridev/dlio-profiler/dlp_analyzer/main.py:335]\n",
      "[INFO] [21:45:47] Loaded events [/usr/WS2/haridev/dlio-profiler/dlp_analyzer/main.py:366]\n",
      "[INFO] [21:45:47] Loaded plots with slope threshold: 45 [/usr/WS2/haridev/dlio-profiler/dlp_analyzer/main.py:368]\n"
     ]
    }
   ],
   "source": [
    "analyzer = DLPAnalyzer(filename)"
   ]
  },
  {
   "cell_type": "code",
   "execution_count": 16,
   "id": "34c6fa12-ce7f-4bc9-b24e-c3b59b739147",
   "metadata": {},
   "outputs": [],
   "source": [
    "#analyzer.events[[\"io_time\",\"compute_time\",\"app_io_time\"]].max().compute() / 1e6"
   ]
  },
  {
   "cell_type": "code",
   "execution_count": 17,
   "id": "f057a7a8-e3b3-4ed6-b1b9-769d52c7be4d",
   "metadata": {},
   "outputs": [
    {
     "name": "stderr",
     "output_type": "stream",
     "text": [
      "[INFO] [21:45:47] Total number of events in the workload are 11996204 [/usr/WS2/haridev/dlio-profiler/dlp_analyzer/main.py:457]\n",
      "/usr/WS2/haridev/venvs/venv-dlp_analuzer/lib/python3.9/site-packages/dask/dataframe/core.py:5983: UserWarning: \n",
      "You did not provide metadata, so Dask is running your function on a small dataset to guess output types. It is possible that Dask will guess incorrectly.\n",
      "To provide an explicit output types or to silence this message, please provide the `meta=` keyword, as described in the map or apply function that you are using.\n",
      "  Before: .apply(func)\n",
      "  After:  .apply(func, meta=(None, 'int64'))\n",
      "\n",
      "  warnings.warn(meta_warning(meta))\n",
      "/usr/WS2/haridev/venvs/venv-dlp_analuzer/lib/python3.9/site-packages/dask/dataframe/core.py:5983: UserWarning: \n",
      "You did not provide metadata, so Dask is running your function on a small dataset to guess output types. It is possible that Dask will guess incorrectly.\n",
      "To provide an explicit output types or to silence this message, please provide the `meta=` keyword, as described in the map or apply function that you are using.\n",
      "  Before: .apply(func)\n",
      "  After:  .apply(func, meta=(None, 'int64'))\n",
      "\n",
      "  warnings.warn(meta_warning(meta))\n",
      "/usr/WS2/haridev/venvs/venv-dlp_analuzer/lib/python3.9/site-packages/dask/dataframe/core.py:5983: UserWarning: \n",
      "You did not provide metadata, so Dask is running your function on a small dataset to guess output types. It is possible that Dask will guess incorrectly.\n",
      "To provide an explicit output types or to silence this message, please provide the `meta=` keyword, as described in the map or apply function that you are using.\n",
      "  Before: .apply(func)\n",
      "  After:  .apply(func, meta=(None, 'int64'))\n",
      "\n",
      "  warnings.warn(meta_warning(meta))\n",
      "/usr/WS2/haridev/venvs/venv-dlp_analuzer/lib/python3.9/site-packages/dask/dataframe/core.py:5983: UserWarning: \n",
      "You did not provide metadata, so Dask is running your function on a small dataset to guess output types. It is possible that Dask will guess incorrectly.\n",
      "To provide an explicit output types or to silence this message, please provide the `meta=` keyword, as described in the map or apply function that you are using.\n",
      "  Before: .apply(func)\n",
      "  After:  .apply(func, meta=(None, 'int64'))\n",
      "\n",
      "  warnings.warn(meta_warning(meta))\n",
      "[INFO] [21:45:47] Approximate True 105531169, 52070674.0, 61561131.0, 56174469.0,                14773515.0, 24263972.0, 16766633.0, 22153295.0 [/usr/WS2/haridev/dlio-profiler/dlp_analyzer/main.py:414]\n",
      "[INFO] [21:45:47] Created regex value 165 [/usr/WS2/haridev/dlio-profiler/dlp_analyzer/main.py:444]\n",
      "[INFO] [21:45:47] List after removing numbers ['/p/lustreX/kogiouX/dlio_benchmark_results/unetXd/train/img_XXX_of_XXX.npz', '/p/lustreX/kogiouX/dlio_benchmark_results/unetXd/train', '/p/lustreX/kogiouX/dlio_benchmark_results/unetXd/valid', '<NA>'] [/usr/WS2/haridev/dlio-profiler/dlp_analyzer/main.py:452]\n",
      "[INFO] [21:45:47] Created an interval of [0,127] [/usr/WS2/haridev/dlio-profiler/dlp_analyzer/main.py:426]\n"
     ]
    },
    {
     "data": {
      "text/html": [
       "<pre style=\"white-space:pre;overflow-x:auto;line-height:normal;font-family:Menlo,'DejaVu Sans Mono',consolas,'Courier New',monospace\">╭──────────────────────────────────────────────────── Summary ────────────────────────────────────────────────────╮\n",
       "│ <span style=\"color: #008080; text-decoration-color: #008080\"> Allocation   </span> Scheduler Allocation Details                                                                     │\n",
       "│ <span style=\"color: #008080; text-decoration-color: #008080\">              </span> ├── Nodes: 32 ruby[165,1253]                                                                     │\n",
       "│ <span style=\"color: #008080; text-decoration-color: #008080\">              </span> ├── Processes: 128 [0,127]                                                                       │\n",
       "│ <span style=\"color: #008080; text-decoration-color: #008080\">              </span> ├── Thread allocations across nodes (includes dynamically created threads)                       │\n",
       "│ <span style=\"color: #008080; text-decoration-color: #008080\">              </span> │   ├── Compute: 128                                                                             │\n",
       "│ <span style=\"color: #008080; text-decoration-color: #008080\">              </span> │   └── I/O: 2304                                                                                │\n",
       "│ <span style=\"color: #008080; text-decoration-color: #008080\">              </span> └── Events Recorded: 11996204                                                                    │\n",
       "│ <span style=\"color: #008080; text-decoration-color: #008080\"> Dataset      </span> Description of Dataset Used                                                                      │\n",
       "│ <span style=\"color: #008080; text-decoration-color: #008080\">              </span> └── Files: 171 ['/p/lustreX/kogiouX/dlio_benchmark_results/unetXd/train/img_XXX_of_XXX.npz',     │\n",
       "│ <span style=\"color: #008080; text-decoration-color: #008080\">              </span>     '/p/lustreX/kogiouX/dlio_benchmark_results/unetXd/train',                                    │\n",
       "│ <span style=\"color: #008080; text-decoration-color: #008080\">              </span>     '/p/lustreX/kogiouX/dlio_benchmark_results/unetXd/valid', '&lt;NA&gt;']                            │\n",
       "│ <span style=\"color: #008080; text-decoration-color: #008080\"> I/O Behavior </span> Behavior of Application                                                                          │\n",
       "│ <span style=\"color: #008080; text-decoration-color: #008080\">              </span> ├── Split of Time in application                                                                 │\n",
       "│ <span style=\"color: #008080; text-decoration-color: #008080\">              </span> │   ├── Total Time: 105.531 sec                                                                  │\n",
       "│ <span style=\"color: #008080; text-decoration-color: #008080\">              </span> │   ├── Overall App Level I/O: 56.174 sec                                                        │\n",
       "│ <span style=\"color: #008080; text-decoration-color: #008080\">              </span> │   ├── Unoverlapped App I/O: 16.767 sec                                                         │\n",
       "│ <span style=\"color: #008080; text-decoration-color: #008080\">              </span> │   ├── Unoverlapped App Compute: 22.153 sec                                                     │\n",
       "│ <span style=\"color: #008080; text-decoration-color: #008080\">              </span> │   ├── Compute: 61.561 sec                                                                      │\n",
       "│ <span style=\"color: #008080; text-decoration-color: #008080\">              </span> │   ├── Overall I/O: 52.071 sec                                                                  │\n",
       "│ <span style=\"color: #008080; text-decoration-color: #008080\">              </span> │   ├── Unoverlapped I/O: 14.774 sec                                                             │\n",
       "│ <span style=\"color: #008080; text-decoration-color: #008080\">              </span> │   └── Unoverlapped Compute: 24.264 sec                                                         │\n",
       "│ <span style=\"color: #008080; text-decoration-color: #008080\">              </span> ├── Transfer size distribution by function                                                       │\n",
       "│ <span style=\"color: #008080; text-decoration-color: #008080\">              </span> │   ├── Function       |min   |25    |mean  |median|75    |max   |                               │\n",
       "│ <span style=\"color: #008080; text-decoration-color: #008080\">              </span> │   ├── opendir        |NA    |nan   |nan   |NA    |nan   |NA    |                               │\n",
       "│ <span style=\"color: #008080; text-decoration-color: #008080\">              </span> │   ├── __xstat64      |NA    |nan   |nan   |NA    |nan   |NA    |                               │\n",
       "│ <span style=\"color: #008080; text-decoration-color: #008080\">              </span> │   ├── open64         |NA    |nan   |nan   |NA    |nan   |NA    |                               │\n",
       "│ <span style=\"color: #008080; text-decoration-color: #008080\">              </span> │   ├── __fxstat64     |NA    |nan   |nan   |NA    |nan   |NA    |                               │\n",
       "│ <span style=\"color: #008080; text-decoration-color: #008080\">              </span> │   ├── lseek64        |NA    |nan   |nan   |NA    |nan   |NA    |                               │\n",
       "│ <span style=\"color: #008080; text-decoration-color: #008080\">              </span> │   ├── read           |NA    |4MB   |4MB   |4MB   |4MB   |4MB   |                               │\n",
       "│ <span style=\"color: #008080; text-decoration-color: #008080\">              </span> │   └── close          |NA    |nan   |nan   |NA    |nan   |NA    |                               │\n",
       "│ <span style=\"color: #008080; text-decoration-color: #008080\">              </span> └── Event count by function                                                                      │\n",
       "│ <span style=\"color: #008080; text-decoration-color: #008080\">              </span>     ├── opendir : 5372                                                                           │\n",
       "│ <span style=\"color: #008080; text-decoration-color: #008080\">              </span>     ├── __xstat64 : 5372                                                                         │\n",
       "│ <span style=\"color: #008080; text-decoration-color: #008080\">              </span>     ├── open64 : 17822                                                                           │\n",
       "│ <span style=\"color: #008080; text-decoration-color: #008080\">              </span>     ├── __fxstat64 : 35614                                                                       │\n",
       "│ <span style=\"color: #008080; text-decoration-color: #008080\">              </span>     ├── lseek64 : 10442002                                                                       │\n",
       "│ <span style=\"color: #008080; text-decoration-color: #008080\">              </span>     ├── read : 732133                                                                            │\n",
       "│ <span style=\"color: #008080; text-decoration-color: #008080\">              </span>     └── close : 15288                                                                            │\n",
       "╰─────────────────────────────────────────────────────────────────────────────────────────────────────────────────╯\n",
       "</pre>\n"
      ],
      "text/plain": [
       "╭──────────────────────────────────────────────────── Summary ────────────────────────────────────────────────────╮\n",
       "│ \u001b[36m \u001b[0m\u001b[36mAllocation  \u001b[0m\u001b[36m \u001b[0m Scheduler Allocation Details                                                                     │\n",
       "│ \u001b[36m              \u001b[0m ├── Nodes: 32 ruby[165,1253]                                                                     │\n",
       "│ \u001b[36m              \u001b[0m ├── Processes: 128 [0,127]                                                                       │\n",
       "│ \u001b[36m              \u001b[0m ├── Thread allocations across nodes (includes dynamically created threads)                       │\n",
       "│ \u001b[36m              \u001b[0m │   ├── Compute: 128                                                                             │\n",
       "│ \u001b[36m              \u001b[0m │   └── I/O: 2304                                                                                │\n",
       "│ \u001b[36m              \u001b[0m └── Events Recorded: 11996204                                                                    │\n",
       "│ \u001b[36m \u001b[0m\u001b[36mDataset     \u001b[0m\u001b[36m \u001b[0m Description of Dataset Used                                                                      │\n",
       "│ \u001b[36m              \u001b[0m └── Files: 171 ['/p/lustreX/kogiouX/dlio_benchmark_results/unetXd/train/img_XXX_of_XXX.npz',     │\n",
       "│ \u001b[36m              \u001b[0m     '/p/lustreX/kogiouX/dlio_benchmark_results/unetXd/train',                                    │\n",
       "│ \u001b[36m              \u001b[0m     '/p/lustreX/kogiouX/dlio_benchmark_results/unetXd/valid', '<NA>']                            │\n",
       "│ \u001b[36m \u001b[0m\u001b[36mI/O Behavior\u001b[0m\u001b[36m \u001b[0m Behavior of Application                                                                          │\n",
       "│ \u001b[36m              \u001b[0m ├── Split of Time in application                                                                 │\n",
       "│ \u001b[36m              \u001b[0m │   ├── Total Time: 105.531 sec                                                                  │\n",
       "│ \u001b[36m              \u001b[0m │   ├── Overall App Level I/O: 56.174 sec                                                        │\n",
       "│ \u001b[36m              \u001b[0m │   ├── Unoverlapped App I/O: 16.767 sec                                                         │\n",
       "│ \u001b[36m              \u001b[0m │   ├── Unoverlapped App Compute: 22.153 sec                                                     │\n",
       "│ \u001b[36m              \u001b[0m │   ├── Compute: 61.561 sec                                                                      │\n",
       "│ \u001b[36m              \u001b[0m │   ├── Overall I/O: 52.071 sec                                                                  │\n",
       "│ \u001b[36m              \u001b[0m │   ├── Unoverlapped I/O: 14.774 sec                                                             │\n",
       "│ \u001b[36m              \u001b[0m │   └── Unoverlapped Compute: 24.264 sec                                                         │\n",
       "│ \u001b[36m              \u001b[0m ├── Transfer size distribution by function                                                       │\n",
       "│ \u001b[36m              \u001b[0m │   ├── Function       |min   |25    |mean  |median|75    |max   |                               │\n",
       "│ \u001b[36m              \u001b[0m │   ├── opendir        |NA    |nan   |nan   |NA    |nan   |NA    |                               │\n",
       "│ \u001b[36m              \u001b[0m │   ├── __xstat64      |NA    |nan   |nan   |NA    |nan   |NA    |                               │\n",
       "│ \u001b[36m              \u001b[0m │   ├── open64         |NA    |nan   |nan   |NA    |nan   |NA    |                               │\n",
       "│ \u001b[36m              \u001b[0m │   ├── __fxstat64     |NA    |nan   |nan   |NA    |nan   |NA    |                               │\n",
       "│ \u001b[36m              \u001b[0m │   ├── lseek64        |NA    |nan   |nan   |NA    |nan   |NA    |                               │\n",
       "│ \u001b[36m              \u001b[0m │   ├── read           |NA    |4MB   |4MB   |4MB   |4MB   |4MB   |                               │\n",
       "│ \u001b[36m              \u001b[0m │   └── close          |NA    |nan   |nan   |NA    |nan   |NA    |                               │\n",
       "│ \u001b[36m              \u001b[0m └── Event count by function                                                                      │\n",
       "│ \u001b[36m              \u001b[0m     ├── opendir : 5372                                                                           │\n",
       "│ \u001b[36m              \u001b[0m     ├── __xstat64 : 5372                                                                         │\n",
       "│ \u001b[36m              \u001b[0m     ├── open64 : 17822                                                                           │\n",
       "│ \u001b[36m              \u001b[0m     ├── __fxstat64 : 35614                                                                       │\n",
       "│ \u001b[36m              \u001b[0m     ├── lseek64 : 10442002                                                                       │\n",
       "│ \u001b[36m              \u001b[0m     ├── read : 732133                                                                            │\n",
       "│ \u001b[36m              \u001b[0m     └── close : 15288                                                                            │\n",
       "╰─────────────────────────────────────────────────────────────────────────────────────────────────────────────────╯\n"
      ]
     },
     "metadata": {},
     "output_type": "display_data"
    }
   ],
   "source": [
    "items = analyzer.summary()\n",
    "items"
   ]
  },
  {
   "cell_type": "code",
   "execution_count": 22,
   "id": "e52cb7e7-5d51-4126-888b-ee847222b988",
   "metadata": {},
   "outputs": [
    {
     "data": {
      "text/plain": [
       "name\n",
       "__fxstat64     1.029207\n",
       "__xstat64      3.215289\n",
       "close          0.708018\n",
       "lseek64        0.148687\n",
       "open64         0.799039\n",
       "opendir        3.505572\n",
       "read          51.017253\n",
       "Name: io_time, dtype: double[pyarrow]"
      ]
     },
     "execution_count": 22,
     "metadata": {},
     "output_type": "execute_result"
    }
   ],
   "source": [
    "analyzer.events.query(\"cat == 'POSIX'\").groupby([\"trange\",\"pid\",\"tid\",\"name\"])[\"io_time\"].sum().groupby([\"trange\",\"name\"]).max().groupby(\"name\").sum().compute() / 1e6"
   ]
  },
  {
   "cell_type": "code",
   "execution_count": 18,
   "id": "f446524b-6ebb-496f-b595-9f0456fce540",
   "metadata": {},
   "outputs": [
    {
     "data": {
      "text/plain": [
       "io_time       min           0\n",
       "              max     1823319\n",
       "compute_time  min     2721618\n",
       "              max     2742921\n",
       "app_io_time   min      262239\n",
       "              max    29142459\n",
       "dtype: uint64[pyarrow]"
      ]
     },
     "execution_count": 18,
     "metadata": {},
     "output_type": "execute_result"
    }
   ],
   "source": [
    "val = analyzer.events.groupby([\"trange\"]).agg({\"io_time\":[min,max],\"compute_time\":[min,max],\"app_io_time\":[min,max]}).sum().compute()\n",
    "val"
   ]
  },
  {
   "cell_type": "code",
   "execution_count": 17,
   "id": "251dad2f-2e57-4473-bdf2-0a3ab1c4813e",
   "metadata": {},
   "outputs": [
    {
     "data": {
      "text/plain": [
       "21788614"
      ]
     },
     "execution_count": 17,
     "metadata": {},
     "output_type": "execute_result"
    }
   ],
   "source": [
    "val = analyzer.events[\"app_io_time\"].max().compute()\n",
    "val"
   ]
  },
  {
   "cell_type": "code",
   "execution_count": 22,
   "id": "58dfba53-d7e2-4370-a446-e57de17d17d5",
   "metadata": {},
   "outputs": [
    {
     "data": {
      "text/plain": [
       "105.51145505905151"
      ]
     },
     "execution_count": 22,
     "metadata": {},
     "output_type": "execute_result"
    }
   ],
   "source": [
    "import dask\n",
    "val1, val2 = dask.compute(analyzer.events[\"ts\"].min() /1e6 , analyzer.events[\"ts\"].max()/1e6)\n",
    "val2 - val1"
   ]
  },
  {
   "cell_type": "code",
   "execution_count": 19,
   "id": "556446aa-52a0-4bd0-b650-ab6a9c4ed68c",
   "metadata": {},
   "outputs": [
    {
     "data": {
      "text/plain": [
       "0    ruby165\n",
       "1    ruby926\n",
       "Name: hostname, dtype: string"
      ]
     },
     "execution_count": 19,
     "metadata": {},
     "output_type": "execute_result"
    }
   ],
   "source": [
    "analyzer.events[\"hostname\"].unique().compute()[:2]"
   ]
  },
  {
   "cell_type": "code",
   "execution_count": 23,
   "id": "42c8fafb-8354-466e-a12b-7d5e41e17c31",
   "metadata": {},
   "outputs": [
    {
     "data": {
      "text/plain": [
       "3.809511"
      ]
     },
     "execution_count": 23,
     "metadata": {},
     "output_type": "execute_result"
    }
   ],
   "source": [
    "analyzer.events.query(\"cat == 'POSIX'\").groupby([\"trange\",\"name\"])[\"dur\"].max().sum().compute() / 1e6"
   ]
  },
  {
   "cell_type": "code",
   "execution_count": null,
   "id": "fce6590b-20e9-4dff-9cde-7bdc4c9d714a",
   "metadata": {},
   "outputs": [],
   "source": [
    "analyzer.events.query(\"name == 'open'\").groupby(\"trange\")[\"dur\"].max().sum().compute() / 1e6"
   ]
  },
  {
   "cell_type": "code",
   "execution_count": 22,
   "id": "53cfa467-4b5c-4a2f-bff3-196dd3d92225",
   "metadata": {},
   "outputs": [
    {
     "data": {
      "text/plain": [
       "cat             name                                 \n",
       "POSIX           __fxstat64                                  222217739\n",
       "                __xstat64                                   237376060\n",
       "                close                                       307155133\n",
       "                lseek64                                      44250088\n",
       "                open64                                      358131782\n",
       "                opendir                                     265005180\n",
       "                read                                      14882912576\n",
       "ai_framework    TorchFramework.__init__                         22475\n",
       "                TorchFramework.checkpoint                     6178527\n",
       "                TorchFramework.compute                     7840522796\n",
       "                TorchFramework.get_loader                       46132\n",
       "                TorchFramework.init_loader                 4444766486\n",
       "                TorchFramework.is_nativeio_available            24139\n",
       "                TorchFramework.trace_object                     55917\n",
       "config          ConfigArguments.derive_configurations        13161978\n",
       "                ConfigArguments.get_global_map_index          4809841\n",
       "                ConfigArguments.reconfigure                   5553448\n",
       "                ConfigArguments.validate                       603057\n",
       "data_loader     TorchDataLoader.__init__                       166502\n",
       "                TorchDataLoader.finalize                        15263\n",
       "                TorchDataLoader.next                            13031\n",
       "                TorchDataLoader.read                          3120802\n",
       "                TorchDataset.__getitem__                  22683316707\n",
       "                TorchDataset.__init__                           32604\n",
       "                TorchDataset.__len__                           202404\n",
       "                TorchDataset.worker_init                   1308468509\n",
       "dlio_benchmark  DLIOBenchmark.__init__                    19620386236\n",
       "                DLIOBenchmark._train                     135772442452\n",
       "                DLIOBenchmark.initialize                    729982773\n",
       "                DLIOBenchmark.run                         12474226556\n",
       "reader          FormatReader.preprocess                         79973\n",
       "                NPZReader.__init__                             191740\n",
       "                NPZReader.close                                 44246\n",
       "                NPZReader.get_sample                           215431\n",
       "                NPZReader.open                            22519273363\n",
       "                NPZReader.read_index                      22687743618\n",
       "storage         FileStorage.__init__                      13863256205\n",
       "                FileStorage.create_namespace                    76971\n",
       "                FileStorage.get_node                        237662673\n",
       "                FileStorage.get_uri                           1003104\n",
       "                FileStorage.walk_node                       383311315\n",
       "Name: dur, dtype: uint64[pyarrow]"
      ]
     },
     "execution_count": 22,
     "metadata": {},
     "output_type": "execute_result"
    }
   ],
   "source": [
    "analyzer.events.groupby([\"cat\",\"name\"])[\"dur\"].sum().compute()"
   ]
  },
  {
   "cell_type": "code",
   "execution_count": 23,
   "id": "80672c5c-5a66-4d22-88b6-c97102ff5563",
   "metadata": {},
   "outputs": [
    {
     "data": {
      "text/plain": [
       "(0.9911281578947368,\n",
       " 0.26911763157894736,\n",
       " 0.28428078947368424,\n",
       " 0.04696078947368421,\n",
       " 0.371635)"
      ]
     },
     "execution_count": 23,
     "metadata": {},
     "output_type": "execute_result"
    }
   ],
   "source": [
    "3766287/3.8/1e6, 1022647/3.8/1e6, 1080267/3.8/1e6, 178451/3.8/1e6, (1259124+153089)/3.8/1e6"
   ]
  },
  {
   "cell_type": "code",
   "execution_count": 38,
   "id": "a5a3cedc-4536-4583-90d9-ac0530958d63",
   "metadata": {},
   "outputs": [
    {
     "name": "stderr",
     "output_type": "stream",
     "text": [
      "[INFO] [13:54:31]             index           size  total_time  io_time  app_io_time\n",
      "trange                                                            \n",
      "21229401  6398146  6057549130908    21788614  1320738     21788614\n",
      "21229402  5598058  6039041094497     5366465   299441      5366465 [/usr/WS2/haridev/dlio-profiler/dlp_analyzer/plots.py:224]\n",
      "[INFO] [13:54:31]             index           size  total_time  io_time  app_io_time\n",
      "trange                                                            \n",
      "21229401  6398146  6057549130908    21788614  1320738     21788614\n",
      "21229402  5598058  6039041094497     5366465   299441      5366465 [/usr/WS2/haridev/dlio-profiler/dlp_analyzer/plots.py:94]\n",
      "[INFO] [13:54:31]         index  size  total_time  io_time  app_io_time\n",
      "trange                                               \n",
      "1           1     1           1        1            1\n",
      "2           1     2           2        2            2 [/usr/WS2/haridev/dlio-profiler/dlp_analyzer/plots.py:69]\n"
     ]
    },
    {
     "data": {
      "text/plain": [
       "(<Figure size 800x400 with 1 Axes>,\n",
       " <Axes: xlabel='Timeline (sec)', ylabel='I/O Time (sec)'>)"
      ]
     },
     "execution_count": 38,
     "metadata": {},
     "output_type": "execute_result"
    },
    {
     "data": {
      "image/png": "[encoded data removed]",
      "text/plain": [
       "<Figure size 800x400 with 1 Axes>"
      ]
     },
     "metadata": {},
     "output_type": "display_data"
    }
   ],
   "source": [
    "analyzer.plots.bottleneck_timeline(figsize=(8, 4))"
   ]
  },
  {
   "cell_type": "code",
   "execution_count": null,
   "id": "08af42cf-6eee-42f2-8e1f-e89c2cc85db2",
   "metadata": {},
   "outputs": [],
   "source": [
    "analyzer.plots.bw_timeline(figsize=(4, 4), unit='KB')"
   ]
  },
  {
   "cell_type": "code",
   "execution_count": 35,
   "id": "f912e688-0de1-47c7-b7a5-266ca6603a5a",
   "metadata": {},
   "outputs": [
    {
     "name": "stderr",
     "output_type": "stream",
     "text": [
      "[INFO] [13:52:38]             index           size  total_time  io_time  app_io_time\n",
      "trange                                                            \n",
      "21229401  6398146  6057549130908    21788614  1320738     21788614\n",
      "21229402  5598058  6039041094497     5366465   299441      5366465 [/usr/WS2/haridev/dlio-profiler/dlp_analyzer/plots.py:224]\n"
     ]
    },
    {
     "data": {
      "text/plain": [
       "<Axes: xlabel='Transfer Sizes', ylabel='Frequency'>"
      ]
     },
     "execution_count": 35,
     "metadata": {},
     "output_type": "execute_result"
    },
    {
     "data": {
      "image/png": "[encoded data removed]",
      "text/plain": [
       "<Figure size 400x400 with 1 Axes>"
      ]
     },
     "metadata": {},
     "output_type": "display_data"
    }
   ],
   "source": [
    "analyzer.plots.xfer_size_distribution(figsize=(4, 4))"
   ]
  },
  {
   "cell_type": "code",
   "execution_count": null,
   "id": "0d3d86e7-9dc3-4256-b843-700179459b19",
   "metadata": {},
   "outputs": [],
   "source": []
  }
 ],
 "metadata": {
  "kernelspec": {
   "display_name": "Python 3 (ipykernel)",
   "language": "python",
   "name": "python3"
  },
  "language_info": {
   "codemirror_mode": {
    "name": "ipython",
    "version": 3
   },
   "file_extension": ".py",
   "mimetype": "text/x-python",
   "name": "python",
   "nbconvert_exporter": "python",
   "pygments_lexer": "ipython3",
   "version": "3.9.12"
  },
  "widgets": {
   "application/vnd.jupyter.widget-state+json": {
    "state": {},
    "version_major": 2,
    "version_minor": 0
   }
  }
 },
 "nbformat": 4,
 "nbformat_minor": 5
}
