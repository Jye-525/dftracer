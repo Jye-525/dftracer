{
 "cells": [
  {
   "cell_type": "code",
   "execution_count": 1,
   "id": "86ed50dc-d4d6-4e78-be69-1d55b8362a46",
   "metadata": {},
   "outputs": [],
   "source": [
    "%load_ext autoreload"
   ]
  },
  {
   "cell_type": "code",
   "execution_count": 2,
   "id": "93bc48a5-30a9-4108-88a6-59861bddd0ce",
   "metadata": {},
   "outputs": [],
   "source": [
    "%autoreload 2"
   ]
  },
  {
   "cell_type": "code",
   "execution_count": 3,
   "id": "4a47492d-40d0-4dea-b1a2-aa1f083239e3",
   "metadata": {},
   "outputs": [],
   "source": [
    "import json\n",
    "import os\n",
    "import yaml\n",
    "from dask.distributed import Client"
   ]
  },
  {
   "cell_type": "code",
   "execution_count": 4,
   "id": "ef1dcd21-7001-47d4-b0e0-b9460b86556d",
   "metadata": {},
   "outputs": [],
   "source": [
    "with open('/g/g92/haridev/.dlio_profiler/configuration.yaml', 'r') as file:\n",
    "    dlp_yaml = yaml.safe_load(file)"
   ]
  },
  {
   "cell_type": "code",
   "execution_count": 5,
   "id": "c310a43c-006c-4c36-9d54-d7056e9c0519",
   "metadata": {},
   "outputs": [
    {
     "data": {
      "text/plain": [
       "['/usr/WS2/haridev/dlio-profiler',\n",
       " '/usr/WS2/haridev/dlio-profiler/examples/dlp_analyzer',\n",
       " '/usr/WS2/haridev/dlio-profiler/examples/dlp_analyzer',\n",
       " '/usr/workspace/iopp/projects/digio',\n",
       " '/collab/usr/gapps/python/build/spack-toss4.1/var/spack/environments/python/._view/75prb56irmif5ejtirjthpx6kq3gqo52/lib/python39.zip',\n",
       " '/collab/usr/gapps/python/build/spack-toss4.1/var/spack/environments/python/._view/75prb56irmif5ejtirjthpx6kq3gqo52/lib/python3.9',\n",
       " '/collab/usr/gapps/python/build/spack-toss4.1/var/spack/environments/python/._view/75prb56irmif5ejtirjthpx6kq3gqo52/lib/python3.9/lib-dynload',\n",
       " '',\n",
       " '/usr/WS2/haridev/venvs/venv-dlp_analuzer/lib/python3.9/site-packages']"
      ]
     },
     "execution_count": 5,
     "metadata": {},
     "output_type": "execute_result"
    }
   ],
   "source": [
    "# to make this notebook in dev mode.\n",
    "import sys\n",
    "sys.path.insert(0,dlp_yaml[\"APP\"])\n",
    "sys.path"
   ]
  },
  {
   "cell_type": "code",
   "execution_count": 6,
   "id": "89d58cc4-dd7a-47f8-82a6-6ef2ea9a2bc0",
   "metadata": {},
   "outputs": [
    {
     "name": "stdout",
     "output_type": "stream",
     "text": [
      "/usr/WS2/haridev/dlio-profiler/dlp_analyzer/__init__.py\n"
     ]
    }
   ],
   "source": [
    "import dlp_analyzer\n",
    "print(dlp_analyzer.__file__)\n",
    "from dlp_analyzer.main import DLPAnalyzer,get_dlp_configuration,update_dlp_configuration,setup_logging,setup_dask_cluster, reset_dask_cluster, get_dlp_configuration"
   ]
  },
  {
   "cell_type": "code",
   "execution_count": 7,
   "id": "dd08b66c-595c-4341-813c-7fabbaf70273",
   "metadata": {},
   "outputs": [
    {
     "data": {
      "text/plain": [
       "'/usr/WS2/haridev/dlio-profiler/dlp_analyzer/dask/run_dir'"
      ]
     },
     "execution_count": 7,
     "metadata": {},
     "output_type": "execute_result"
    }
   ],
   "source": [
    "dask_run_dir = os.path.join(dlp_yaml[\"APP\"], \"dlp_analyzer\", \"dask\", \"run_dir\")\n",
    "dask_run_dir"
   ]
  },
  {
   "cell_type": "code",
   "execution_count": 8,
   "id": "43ec9989-5d6e-438c-8d34-0554d47deb69",
   "metadata": {},
   "outputs": [
    {
     "data": {
      "text/plain": [
       "{'type': 'Scheduler',\n",
       " 'id': 'Scheduler-89209c3b-66f7-4b23-9420-c0d0848be547',\n",
       " 'address': 'tcp://134.9.71.27:10001',\n",
       " 'services': {'dashboard': 8787},\n",
       " 'started': 1698518019.2896266,\n",
       " 'workers': {}}"
      ]
     },
     "execution_count": 8,
     "metadata": {},
     "output_type": "execute_result"
    }
   ],
   "source": [
    "with open (os.path.join(dask_run_dir, \"scheduler.json\"), \"r\") as f:\n",
    "    dask_scheduler = json.load(f)\n",
    "dask_scheduler"
   ]
  },
  {
   "cell_type": "code",
   "execution_count": 9,
   "id": "1b330315-f487-409a-b2c6-d6eab2894b87",
   "metadata": {},
   "outputs": [],
   "source": [
    "app_name = \"mummi\" # resnet cosmoflow unet3d mummi deepspeed"
   ]
  },
  {
   "cell_type": "code",
   "execution_count": 10,
   "id": "6fe1d34c-f607-4c29-ad3e-e199276fd30c",
   "metadata": {},
   "outputs": [],
   "source": [
    "def get_conditions_cosmoflow(json_object):\n",
    "    app_io_cond = \"TFReader.parse_image\" in json_object[\"name\"] # Cosmoflow\n",
    "    compute_cond = \"compute\" in json_object[\"name\"] # Cosmoflow\n",
    "    io_cond = \"POSIX\" == json_object[\"cat\"] # Cosmoflow\n",
    "    return app_io_cond, compute_cond, io_cond\n",
    "\n",
    "def get_conditions_resnet(json_object):\n",
    "    app_io_cond = \"IO\" == json_object[\"cat\"] # Resnet50\n",
    "    compute_cond = \"cpu\" in json_object[\"name\"] or \"compute\" in json_object[\"cat\"] # Resnet50\n",
    "    io_cond = \"POSIX\" == json_object[\"cat\"] # Cosmoflow\n",
    "    return app_io_cond, compute_cond, io_cond\n",
    "\n",
    "def get_conditions_unet3d(json_object):\n",
    "    app_io_cond = \"NPZReader.read_index\" in json_object[\"name\"] # Unet3d\n",
    "    compute_cond = \"compute\" in json_object[\"name\"] # Unet3d\n",
    "    io_cond = \"POSIX\" == json_object[\"cat\"] # Cosmoflow\n",
    "    return app_io_cond, compute_cond, io_cond\n"
   ]
  },
  {
   "cell_type": "code",
   "execution_count": 11,
   "id": "face72a1-485a-4168-b87a-2171aad37691",
   "metadata": {},
   "outputs": [],
   "source": [
    "condition_fn = None\n",
    "if app_name == \"cosmoflow\":\n",
    "    filename = \"/usr/WS2/iopp/kogiou1/dlio_benchmark/hydra_log/cosmoflow/2023-10-31-10-27-24/.trace*.pfw.gz\"\n",
    "    condition_fn = get_conditions_cosmoflow\n",
    "elif app_name == \"resnet\":\n",
    "    filename = \"/usr/workspace/iopp/dlio_paper_results/resnet_50_1node_4ppn/*.pfw.gz\"\n",
    "    condition_fn = get_conditions_resnet\n",
    "elif app_name == \"unet3d\":\n",
    "    filename = \"/usr/workspace/iopp/kogiou1/dlio_benchmark_logs/unet3d/node_32_ppn_4/.trace*.pfw.gz\"\n",
    "    condition_fn = get_conditions_unet3d\n",
    "elif app_name == \"mummi\":\n",
    "    filename = \"/usr/workspace/iopp/dlp_traces/mummi-32-node/trace*.pfw.gz\"\n",
    "elif app_name == \"mummi\":\n",
    "    filename = \"/usr/workspace/iopp/dlp_traces/deep_speed_32_4ppn/*.pfw.gz\"\n",
    "else:\n",
    "    raise Exception(\"Unknown App name\")"
   ]
  },
  {
   "cell_type": "code",
   "execution_count": 28,
   "id": "d3a7cf5b-fbbc-4eee-9ed5-ce869f4541e6",
   "metadata": {},
   "outputs": [],
   "source": [
    "conf = update_dlp_configuration(dask_scheduler=dask_scheduler[\"address\"], verbose=True, \n",
    "                                log_file=\"./dlp.log\", rebuild_index=False, time_approximate=True, \n",
    "                                host_pattern=r'lassen(\\d+)', time_granularity=3600e6, skip_hostname=True, conditions=condition_fn)\n"
   ]
  },
  {
   "cell_type": "code",
   "execution_count": 29,
   "id": "9ae31f27-a26a-463a-b2e9-3adba8de7246",
   "metadata": {},
   "outputs": [
    {
     "data": {
      "text/plain": [
       "True"
      ]
     },
     "execution_count": 29,
     "metadata": {},
     "output_type": "execute_result"
    }
   ],
   "source": [
    "conf = get_dlp_configuration()\n",
    "conf.time_approximate"
   ]
  },
  {
   "cell_type": "code",
   "execution_count": 30,
   "id": "04428959-820f-4466-8ceb-778bcce93bf0",
   "metadata": {},
   "outputs": [],
   "source": [
    "setup_logging()"
   ]
  },
  {
   "cell_type": "code",
   "execution_count": 31,
   "id": "68e813b7-6b95-4f31-b223-1fb50774db50",
   "metadata": {},
   "outputs": [
    {
     "name": "stderr",
     "output_type": "stream",
     "text": [
      "[INFO] [01:13:10] Initialized Client with 48 workers and link http://134.9.71.27:8787/status [/usr/WS2/haridev/dlio-profiler/dlp_analyzer/main.py:625]\n"
     ]
    }
   ],
   "source": [
    "setup_dask_cluster()"
   ]
  },
  {
   "cell_type": "code",
   "execution_count": 32,
   "id": "236e50a4-03b6-4895-a0a5-d473f5e391b5",
   "metadata": {},
   "outputs": [
    {
     "name": "stderr",
     "output_type": "stream",
     "text": [
      "[INFO] [01:13:17] Restarting all workers [/usr/WS2/haridev/dlio-profiler/dlp_analyzer/main.py:617]\n"
     ]
    }
   ],
   "source": [
    "reset_dask_cluster()"
   ]
  },
  {
   "cell_type": "code",
   "execution_count": 33,
   "id": "b37727ee-a221-43ab-81e1-cdf98c2cf314",
   "metadata": {},
   "outputs": [
    {
     "name": "stderr",
     "output_type": "stream",
     "text": [
      "[INFO] [01:13:20] Created index for 5849 files [/usr/WS2/haridev/dlio-profiler/dlp_analyzer/main.py:333]\n",
      "[INFO] [01:13:20] Total size of all files are <dask.bag.core.Item object at 0x1554a663f310> bytes [/usr/WS2/haridev/dlio-profiler/dlp_analyzer/main.py:335]\n",
      "[INFO] [01:13:23] Loading 6105 batches out of 5849 files and has 4506577 lines overall [/usr/WS2/haridev/dlio-profiler/dlp_analyzer/main.py:348]\n",
      "[INFO] [01:13:46] Loaded events [/usr/WS2/haridev/dlio-profiler/dlp_analyzer/main.py:390]\n",
      "[INFO] [01:13:46] Loaded plots with slope threshold: 45 [/usr/WS2/haridev/dlio-profiler/dlp_analyzer/main.py:396]\n"
     ]
    }
   ],
   "source": [
    "analyzer = DLPAnalyzer(filename)"
   ]
  },
  {
   "cell_type": "code",
   "execution_count": 34,
   "id": "c8c4b2d0-76c4-46df-9a35-068c98aaa7f8",
   "metadata": {},
   "outputs": [
    {
     "data": {
      "text/html": [
       "<div>\n",
       "<style scoped>\n",
       "    .dataframe tbody tr th:only-of-type {\n",
       "        vertical-align: middle;\n",
       "    }\n",
       "\n",
       "    .dataframe tbody tr th {\n",
       "        vertical-align: top;\n",
       "    }\n",
       "\n",
       "    .dataframe thead th {\n",
       "        text-align: right;\n",
       "    }\n",
       "</style>\n",
       "<table border=\"1\" class=\"dataframe\">\n",
       "  <thead>\n",
       "    <tr style=\"text-align: right;\">\n",
       "      <th></th>\n",
       "      <th>name</th>\n",
       "      <th>cat</th>\n",
       "      <th>pid</th>\n",
       "      <th>tid</th>\n",
       "      <th>ts</th>\n",
       "      <th>te</th>\n",
       "      <th>dur</th>\n",
       "      <th>tinterval</th>\n",
       "      <th>trange</th>\n",
       "      <th>hostname</th>\n",
       "      <th>compute_time</th>\n",
       "      <th>io_time</th>\n",
       "      <th>app_io_time</th>\n",
       "      <th>total_time</th>\n",
       "      <th>filename</th>\n",
       "      <th>phase</th>\n",
       "      <th>size</th>\n",
       "    </tr>\n",
       "  </thead>\n",
       "  <tbody>\n",
       "    <tr>\n",
       "      <th>0</th>\n",
       "      <td>__xstat64</td>\n",
       "      <td>POSIX</td>\n",
       "      <td>7935</td>\n",
       "      <td>11634</td>\n",
       "      <td>4293</td>\n",
       "      <td>4307</td>\n",
       "      <td>14</td>\n",
       "      <td>&lt;NA&gt;</td>\n",
       "      <td>0.0</td>\n",
       "      <td>lassen262</td>\n",
       "      <td>&lt;NA&gt;</td>\n",
       "      <td>14</td>\n",
       "      <td>&lt;NA&gt;</td>\n",
       "      <td>14</td>\n",
       "      <td>&lt;NA&gt;</td>\n",
       "      <td>2</td>\n",
       "      <td>&lt;NA&gt;</td>\n",
       "    </tr>\n",
       "    <tr>\n",
       "      <th>1</th>\n",
       "      <td>__xstat64</td>\n",
       "      <td>POSIX</td>\n",
       "      <td>7935</td>\n",
       "      <td>11634</td>\n",
       "      <td>16980</td>\n",
       "      <td>20715</td>\n",
       "      <td>3735</td>\n",
       "      <td>&lt;NA&gt;</td>\n",
       "      <td>0.0</td>\n",
       "      <td>lassen262</td>\n",
       "      <td>&lt;NA&gt;</td>\n",
       "      <td>3735</td>\n",
       "      <td>&lt;NA&gt;</td>\n",
       "      <td>3735</td>\n",
       "      <td>&lt;NA&gt;</td>\n",
       "      <td>2</td>\n",
       "      <td>&lt;NA&gt;</td>\n",
       "    </tr>\n",
       "    <tr>\n",
       "      <th>2</th>\n",
       "      <td>open64</td>\n",
       "      <td>POSIX</td>\n",
       "      <td>7935</td>\n",
       "      <td>11634</td>\n",
       "      <td>20826</td>\n",
       "      <td>20962</td>\n",
       "      <td>136</td>\n",
       "      <td>&lt;NA&gt;</td>\n",
       "      <td>0.0</td>\n",
       "      <td>lassen262</td>\n",
       "      <td>&lt;NA&gt;</td>\n",
       "      <td>136</td>\n",
       "      <td>&lt;NA&gt;</td>\n",
       "      <td>136</td>\n",
       "      <td>&lt;NA&gt;</td>\n",
       "      <td>2</td>\n",
       "      <td>&lt;NA&gt;</td>\n",
       "    </tr>\n",
       "    <tr>\n",
       "      <th>3</th>\n",
       "      <td>__fxstat64</td>\n",
       "      <td>POSIX</td>\n",
       "      <td>7935</td>\n",
       "      <td>11634</td>\n",
       "      <td>21028</td>\n",
       "      <td>21032</td>\n",
       "      <td>4</td>\n",
       "      <td>&lt;NA&gt;</td>\n",
       "      <td>0.0</td>\n",
       "      <td>lassen262</td>\n",
       "      <td>&lt;NA&gt;</td>\n",
       "      <td>4</td>\n",
       "      <td>&lt;NA&gt;</td>\n",
       "      <td>4</td>\n",
       "      <td>&lt;NA&gt;</td>\n",
       "      <td>2</td>\n",
       "      <td>&lt;NA&gt;</td>\n",
       "    </tr>\n",
       "    <tr>\n",
       "      <th>4</th>\n",
       "      <td>lseek64</td>\n",
       "      <td>POSIX</td>\n",
       "      <td>7935</td>\n",
       "      <td>11634</td>\n",
       "      <td>21111</td>\n",
       "      <td>21117</td>\n",
       "      <td>6</td>\n",
       "      <td>&lt;NA&gt;</td>\n",
       "      <td>0.0</td>\n",
       "      <td>lassen262</td>\n",
       "      <td>&lt;NA&gt;</td>\n",
       "      <td>6</td>\n",
       "      <td>&lt;NA&gt;</td>\n",
       "      <td>6</td>\n",
       "      <td>&lt;NA&gt;</td>\n",
       "      <td>2</td>\n",
       "      <td>&lt;NA&gt;</td>\n",
       "    </tr>\n",
       "  </tbody>\n",
       "</table>\n",
       "</div>"
      ],
      "text/plain": [
       "         name    cat   pid    tid     ts     te   dur  tinterval  trange  \\\n",
       "0   __xstat64  POSIX  7935  11634   4293   4307    14       <NA>     0.0   \n",
       "1   __xstat64  POSIX  7935  11634  16980  20715  3735       <NA>     0.0   \n",
       "2      open64  POSIX  7935  11634  20826  20962   136       <NA>     0.0   \n",
       "3  __fxstat64  POSIX  7935  11634  21028  21032     4       <NA>     0.0   \n",
       "4     lseek64  POSIX  7935  11634  21111  21117     6       <NA>     0.0   \n",
       "\n",
       "    hostname  compute_time  io_time  app_io_time  total_time filename  phase  \\\n",
       "0  lassen262          <NA>       14         <NA>          14     <NA>      2   \n",
       "1  lassen262          <NA>     3735         <NA>        3735     <NA>      2   \n",
       "2  lassen262          <NA>      136         <NA>         136     <NA>      2   \n",
       "3  lassen262          <NA>        4         <NA>           4     <NA>      2   \n",
       "4  lassen262          <NA>        6         <NA>           6     <NA>      2   \n",
       "\n",
       "   size  \n",
       "0  <NA>  \n",
       "1  <NA>  \n",
       "2  <NA>  \n",
       "3  <NA>  \n",
       "4  <NA>  "
      ]
     },
     "execution_count": 34,
     "metadata": {},
     "output_type": "execute_result"
    }
   ],
   "source": [
    "analyzer.events.head()"
   ]
  },
  {
   "cell_type": "code",
   "execution_count": 35,
   "id": "34c6fa12-ce7f-4bc9-b24e-c3b59b739147",
   "metadata": {},
   "outputs": [],
   "source": [
    "#analyzer.events[[\"io_time\",\"compute_time\",\"app_io_time\"]].max().compute() / 1e6"
   ]
  },
  {
   "cell_type": "code",
   "execution_count": 36,
   "id": "f057a7a8-e3b3-4ed6-b1b9-769d52c7be4d",
   "metadata": {
    "scrolled": true
   },
   "outputs": [
    {
     "name": "stderr",
     "output_type": "stream",
     "text": [
      "[INFO] [01:13:47] Total number of events in the workload are 4500592 [/usr/WS2/haridev/dlio-profiler/dlp_analyzer/main.py:488]\n",
      "/usr/WS2/haridev/venvs/venv-dlp_analuzer/lib/python3.9/site-packages/dask/dataframe/core.py:5983: UserWarning: \n",
      "You did not provide metadata, so Dask is running your function on a small dataset to guess output types. It is possible that Dask will guess incorrectly.\n",
      "To provide an explicit output types or to silence this message, please provide the `meta=` keyword, as described in the map or apply function that you are using.\n",
      "  Before: .apply(func)\n",
      "  After:  .apply(func, meta=(None, 'int64'))\n",
      "\n",
      "  warnings.warn(meta_warning(meta))\n",
      "/usr/WS2/haridev/venvs/venv-dlp_analuzer/lib/python3.9/site-packages/dask/dataframe/core.py:5983: UserWarning: \n",
      "You did not provide metadata, so Dask is running your function on a small dataset to guess output types. It is possible that Dask will guess incorrectly.\n",
      "To provide an explicit output types or to silence this message, please provide the `meta=` keyword, as described in the map or apply function that you are using.\n",
      "  Before: .apply(func)\n",
      "  After:  .apply(func, meta=(None, 'int64'))\n",
      "\n",
      "  warnings.warn(meta_warning(meta))\n",
      "/usr/WS2/haridev/venvs/venv-dlp_analuzer/lib/python3.9/site-packages/dask/dataframe/core.py:5983: UserWarning: \n",
      "You did not provide metadata, so Dask is running your function on a small dataset to guess output types. It is possible that Dask will guess incorrectly.\n",
      "To provide an explicit output types or to silence this message, please provide the `meta=` keyword, as described in the map or apply function that you are using.\n",
      "  Before: .apply(func)\n",
      "  After:  .apply(func, meta=(None, 'int64'))\n",
      "\n",
      "  warnings.warn(meta_warning(meta))\n",
      "/usr/WS2/haridev/venvs/venv-dlp_analuzer/lib/python3.9/site-packages/dask/dataframe/core.py:5983: UserWarning: \n",
      "You did not provide metadata, so Dask is running your function on a small dataset to guess output types. It is possible that Dask will guess incorrectly.\n",
      "To provide an explicit output types or to silence this message, please provide the `meta=` keyword, as described in the map or apply function that you are using.\n",
      "  Before: .apply(func)\n",
      "  After:  .apply(func, meta=(None, 'int64'))\n",
      "\n",
      "  warnings.warn(meta_warning(meta))\n",
      "[INFO] [01:13:47] Approximate True 42815185899, 122627698.0, 0.0, 0.0,                122627698.0, 0.0, 0.0, 0.0 [/usr/WS2/haridev/dlio-profiler/dlp_analyzer/main.py:442]\n",
      "[INFO] [01:13:48] List after removing numbers ['<NA>'] [/usr/WS2/haridev/dlio-profiler/dlp_analyzer/main.py:483]\n",
      "[INFO] [01:13:48] Created an interval of [318,180222] [/usr/WS2/haridev/dlio-profiler/dlp_analyzer/main.py:454]\n"
     ]
    },
    {
     "data": {
      "text/html": [
       "<pre style=\"white-space:pre;overflow-x:auto;line-height:normal;font-family:Menlo,'DejaVu Sans Mono',consolas,'Courier New',monospace\">╭──────────────────────────────────────────────────── Summary ────────────────────────────────────────────────────╮\n",
       "│ <span style=\"color: #008080; text-decoration-color: #008080\"> Allocation   </span> Scheduler Allocation Details                                                                     │\n",
       "│ <span style=\"color: #008080; text-decoration-color: #008080\">              </span> ├── Nodes: 32 ['lassen262', 'lassen592', 'lassen759', 'lassen591', 'lassen264', 'lassen432',     │\n",
       "│ <span style=\"color: #008080; text-decoration-color: #008080\">              </span> │   'lassen748', 'lassen435', 'lassen277', 'lassen752', 'lassen283', 'lassen269', 'lassen598',   │\n",
       "│ <span style=\"color: #008080; text-decoration-color: #008080\">              </span> │   'lassen762', 'lassen763', 'lassen750', 'lassen274', 'lassen105', 'lassen272', 'lassen429',   │\n",
       "│ <span style=\"color: #008080; text-decoration-color: #008080\">              </span> │   'lassen766', 'lassen765', 'lassen758', 'lassen273', 'lassen593', 'lassen278', 'lassen271',   │\n",
       "│ <span style=\"color: #008080; text-decoration-color: #008080\">              </span> │   'lassen421', 'lassen261', 'lassen106', 'lassen761', 'lassen103']                             │\n",
       "│ <span style=\"color: #008080; text-decoration-color: #008080\">              </span> ├── Processes: 22949 [318,180222]                                                                │\n",
       "│ <span style=\"color: #008080; text-decoration-color: #008080\">              </span> ├── Thread allocations across nodes (includes dynamically created threads)                       │\n",
       "│ <span style=\"color: #008080; text-decoration-color: #008080\">              </span> │   ├── Compute: 0                                                                               │\n",
       "│ <span style=\"color: #008080; text-decoration-color: #008080\">              </span> │   └── I/O: 2                                                                                   │\n",
       "│ <span style=\"color: #008080; text-decoration-color: #008080\">              </span> └── Events Recorded: 4500592                                                                     │\n",
       "│ <span style=\"color: #008080; text-decoration-color: #008080\"> Dataset      </span> Description of Dataset Used                                                                      │\n",
       "│ <span style=\"color: #008080; text-decoration-color: #008080\">              </span> └── Files: 1 ['&lt;NA&gt;']                                                                            │\n",
       "│ <span style=\"color: #008080; text-decoration-color: #008080\"> I/O Behavior </span> Behavior of Application                                                                          │\n",
       "│ <span style=\"color: #008080; text-decoration-color: #008080\">              </span> ├── Split of Time in application                                                                 │\n",
       "│ <span style=\"color: #008080; text-decoration-color: #008080\">              </span> │   ├── Total Time: 42815.186 sec                                                                │\n",
       "│ <span style=\"color: #008080; text-decoration-color: #008080\">              </span> │   ├── Overall App Level I/O: 0.000 sec                                                         │\n",
       "│ <span style=\"color: #008080; text-decoration-color: #008080\">              </span> │   ├── Unoverlapped App I/O: 0.000 sec                                                          │\n",
       "│ <span style=\"color: #008080; text-decoration-color: #008080\">              </span> │   ├── Unoverlapped App Compute: 0.000 sec                                                      │\n",
       "│ <span style=\"color: #008080; text-decoration-color: #008080\">              </span> │   ├── Compute: 0.000 sec                                                                       │\n",
       "│ <span style=\"color: #008080; text-decoration-color: #008080\">              </span> │   ├── Overall I/O: 122.628 sec                                                                 │\n",
       "│ <span style=\"color: #008080; text-decoration-color: #008080\">              </span> │   ├── Unoverlapped I/O: 122.628 sec                                                            │\n",
       "│ <span style=\"color: #008080; text-decoration-color: #008080\">              </span> │   └── Unoverlapped Compute: 0.000 sec                                                          │\n",
       "│ <span style=\"color: #008080; text-decoration-color: #008080\">              </span> ├── Transfer size distribution by function                                                       │\n",
       "│ <span style=\"color: #008080; text-decoration-color: #008080\">              </span> │   ├── Function       |min   |25    |mean  |median|75    |max   |                               │\n",
       "│ <span style=\"color: #008080; text-decoration-color: #008080\">              </span> │   ├── __xstat64      |NA    |nan   |nan   |NA    |nan   |NA    |                               │\n",
       "│ <span style=\"color: #008080; text-decoration-color: #008080\">              </span> │   ├── open64         |NA    |nan   |nan   |NA    |nan   |NA    |                               │\n",
       "│ <span style=\"color: #008080; text-decoration-color: #008080\">              </span> │   ├── __fxstat64     |NA    |nan   |nan   |NA    |nan   |NA    |                               │\n",
       "│ <span style=\"color: #008080; text-decoration-color: #008080\">              </span> │   ├── lseek64        |NA    |nan   |nan   |NA    |nan   |NA    |                               │\n",
       "│ <span style=\"color: #008080; text-decoration-color: #008080\">              </span> │   ├── read           |NA    |NA    |11MB  |NA    |6KB   |588MB |                               │\n",
       "│ <span style=\"color: #008080; text-decoration-color: #008080\">              </span> │   ├── close          |NA    |nan   |nan   |NA    |nan   |NA    |                               │\n",
       "│ <span style=\"color: #008080; text-decoration-color: #008080\">              </span> │   ├── chdir          |NA    |nan   |nan   |NA    |nan   |NA    |                               │\n",
       "│ <span style=\"color: #008080; text-decoration-color: #008080\">              </span> │   ├── write          |1     |2KB   |148KB |2KB   |9KB   |3MB   |                               │\n",
       "│ <span style=\"color: #008080; text-decoration-color: #008080\">              </span> │   ├── mkdir          |NA    |nan   |nan   |NA    |nan   |NA    |                               │\n",
       "│ <span style=\"color: #008080; text-decoration-color: #008080\">              </span> │   ├── opendir        |NA    |nan   |nan   |NA    |nan   |NA    |                               │\n",
       "│ <span style=\"color: #008080; text-decoration-color: #008080\">              </span> │   ├── __lxstat64     |NA    |nan   |nan   |NA    |nan   |NA    |                               │\n",
       "│ <span style=\"color: #008080; text-decoration-color: #008080\">              </span> │   ├── fcntl          |NA    |nan   |nan   |NA    |nan   |NA    |                               │\n",
       "│ <span style=\"color: #008080; text-decoration-color: #008080\">              </span> │   └── rmdir          |NA    |nan   |nan   |NA    |nan   |NA    |                               │\n",
       "│ <span style=\"color: #008080; text-decoration-color: #008080\">              </span> └── Event count by function                                                                      │\n",
       "│ <span style=\"color: #008080; text-decoration-color: #008080\">              </span>     ├── __xstat64 : 2793041                                                                      │\n",
       "│ <span style=\"color: #008080; text-decoration-color: #008080\">              </span>     ├── open64 : 182754                                                                          │\n",
       "│ <span style=\"color: #008080; text-decoration-color: #008080\">              </span>     ├── __fxstat64 : 134085                                                                      │\n",
       "│ <span style=\"color: #008080; text-decoration-color: #008080\">              </span>     ├── lseek64 : 993532                                                                         │\n",
       "│ <span style=\"color: #008080; text-decoration-color: #008080\">              </span>     ├── read : 27220                                                                             │\n",
       "│ <span style=\"color: #008080; text-decoration-color: #008080\">              </span>     ├── close : 133027                                                                           │\n",
       "│ <span style=\"color: #008080; text-decoration-color: #008080\">              </span>     ├── chdir : 1378                                                                             │\n",
       "│ <span style=\"color: #008080; text-decoration-color: #008080\">              </span>     ├── write : 131042                                                                           │\n",
       "│ <span style=\"color: #008080; text-decoration-color: #008080\">              </span>     ├── mkdir : 101346                                                                           │\n",
       "│ <span style=\"color: #008080; text-decoration-color: #008080\">              </span>     ├── opendir : 1328                                                                           │\n",
       "│ <span style=\"color: #008080; text-decoration-color: #008080\">              </span>     ├── __lxstat64 : 613                                                                         │\n",
       "│ <span style=\"color: #008080; text-decoration-color: #008080\">              </span>     ├── fcntl : 613                                                                              │\n",
       "│ <span style=\"color: #008080; text-decoration-color: #008080\">              </span>     └── rmdir : 613                                                                              │\n",
       "╰─────────────────────────────────────────────────────────────────────────────────────────────────────────────────╯\n",
       "</pre>\n"
      ],
      "text/plain": [
       "╭──────────────────────────────────────────────────── Summary ────────────────────────────────────────────────────╮\n",
       "│ \u001b[36m \u001b[0m\u001b[36mAllocation  \u001b[0m\u001b[36m \u001b[0m Scheduler Allocation Details                                                                     │\n",
       "│ \u001b[36m              \u001b[0m ├── Nodes: 32 ['lassen262', 'lassen592', 'lassen759', 'lassen591', 'lassen264', 'lassen432',     │\n",
       "│ \u001b[36m              \u001b[0m │   'lassen748', 'lassen435', 'lassen277', 'lassen752', 'lassen283', 'lassen269', 'lassen598',   │\n",
       "│ \u001b[36m              \u001b[0m │   'lassen762', 'lassen763', 'lassen750', 'lassen274', 'lassen105', 'lassen272', 'lassen429',   │\n",
       "│ \u001b[36m              \u001b[0m │   'lassen766', 'lassen765', 'lassen758', 'lassen273', 'lassen593', 'lassen278', 'lassen271',   │\n",
       "│ \u001b[36m              \u001b[0m │   'lassen421', 'lassen261', 'lassen106', 'lassen761', 'lassen103']                             │\n",
       "│ \u001b[36m              \u001b[0m ├── Processes: 22949 [318,180222]                                                                │\n",
       "│ \u001b[36m              \u001b[0m ├── Thread allocations across nodes (includes dynamically created threads)                       │\n",
       "│ \u001b[36m              \u001b[0m │   ├── Compute: 0                                                                               │\n",
       "│ \u001b[36m              \u001b[0m │   └── I/O: 2                                                                                   │\n",
       "│ \u001b[36m              \u001b[0m └── Events Recorded: 4500592                                                                     │\n",
       "│ \u001b[36m \u001b[0m\u001b[36mDataset     \u001b[0m\u001b[36m \u001b[0m Description of Dataset Used                                                                      │\n",
       "│ \u001b[36m              \u001b[0m └── Files: 1 ['<NA>']                                                                            │\n",
       "│ \u001b[36m \u001b[0m\u001b[36mI/O Behavior\u001b[0m\u001b[36m \u001b[0m Behavior of Application                                                                          │\n",
       "│ \u001b[36m              \u001b[0m ├── Split of Time in application                                                                 │\n",
       "│ \u001b[36m              \u001b[0m │   ├── Total Time: 42815.186 sec                                                                │\n",
       "│ \u001b[36m              \u001b[0m │   ├── Overall App Level I/O: 0.000 sec                                                         │\n",
       "│ \u001b[36m              \u001b[0m │   ├── Unoverlapped App I/O: 0.000 sec                                                          │\n",
       "│ \u001b[36m              \u001b[0m │   ├── Unoverlapped App Compute: 0.000 sec                                                      │\n",
       "│ \u001b[36m              \u001b[0m │   ├── Compute: 0.000 sec                                                                       │\n",
       "│ \u001b[36m              \u001b[0m │   ├── Overall I/O: 122.628 sec                                                                 │\n",
       "│ \u001b[36m              \u001b[0m │   ├── Unoverlapped I/O: 122.628 sec                                                            │\n",
       "│ \u001b[36m              \u001b[0m │   └── Unoverlapped Compute: 0.000 sec                                                          │\n",
       "│ \u001b[36m              \u001b[0m ├── Transfer size distribution by function                                                       │\n",
       "│ \u001b[36m              \u001b[0m │   ├── Function       |min   |25    |mean  |median|75    |max   |                               │\n",
       "│ \u001b[36m              \u001b[0m │   ├── __xstat64      |NA    |nan   |nan   |NA    |nan   |NA    |                               │\n",
       "│ \u001b[36m              \u001b[0m │   ├── open64         |NA    |nan   |nan   |NA    |nan   |NA    |                               │\n",
       "│ \u001b[36m              \u001b[0m │   ├── __fxstat64     |NA    |nan   |nan   |NA    |nan   |NA    |                               │\n",
       "│ \u001b[36m              \u001b[0m │   ├── lseek64        |NA    |nan   |nan   |NA    |nan   |NA    |                               │\n",
       "│ \u001b[36m              \u001b[0m │   ├── read           |NA    |NA    |11MB  |NA    |6KB   |588MB |                               │\n",
       "│ \u001b[36m              \u001b[0m │   ├── close          |NA    |nan   |nan   |NA    |nan   |NA    |                               │\n",
       "│ \u001b[36m              \u001b[0m │   ├── chdir          |NA    |nan   |nan   |NA    |nan   |NA    |                               │\n",
       "│ \u001b[36m              \u001b[0m │   ├── write          |1     |2KB   |148KB |2KB   |9KB   |3MB   |                               │\n",
       "│ \u001b[36m              \u001b[0m │   ├── mkdir          |NA    |nan   |nan   |NA    |nan   |NA    |                               │\n",
       "│ \u001b[36m              \u001b[0m │   ├── opendir        |NA    |nan   |nan   |NA    |nan   |NA    |                               │\n",
       "│ \u001b[36m              \u001b[0m │   ├── __lxstat64     |NA    |nan   |nan   |NA    |nan   |NA    |                               │\n",
       "│ \u001b[36m              \u001b[0m │   ├── fcntl          |NA    |nan   |nan   |NA    |nan   |NA    |                               │\n",
       "│ \u001b[36m              \u001b[0m │   └── rmdir          |NA    |nan   |nan   |NA    |nan   |NA    |                               │\n",
       "│ \u001b[36m              \u001b[0m └── Event count by function                                                                      │\n",
       "│ \u001b[36m              \u001b[0m     ├── __xstat64 : 2793041                                                                      │\n",
       "│ \u001b[36m              \u001b[0m     ├── open64 : 182754                                                                          │\n",
       "│ \u001b[36m              \u001b[0m     ├── __fxstat64 : 134085                                                                      │\n",
       "│ \u001b[36m              \u001b[0m     ├── lseek64 : 993532                                                                         │\n",
       "│ \u001b[36m              \u001b[0m     ├── read : 27220                                                                             │\n",
       "│ \u001b[36m              \u001b[0m     ├── close : 133027                                                                           │\n",
       "│ \u001b[36m              \u001b[0m     ├── chdir : 1378                                                                             │\n",
       "│ \u001b[36m              \u001b[0m     ├── write : 131042                                                                           │\n",
       "│ \u001b[36m              \u001b[0m     ├── mkdir : 101346                                                                           │\n",
       "│ \u001b[36m              \u001b[0m     ├── opendir : 1328                                                                           │\n",
       "│ \u001b[36m              \u001b[0m     ├── __lxstat64 : 613                                                                         │\n",
       "│ \u001b[36m              \u001b[0m     ├── fcntl : 613                                                                              │\n",
       "│ \u001b[36m              \u001b[0m     └── rmdir : 613                                                                              │\n",
       "╰─────────────────────────────────────────────────────────────────────────────────────────────────────────────────╯\n"
      ]
     },
     "metadata": {},
     "output_type": "display_data"
    }
   ],
   "source": [
    "items = analyzer.summary()\n",
    "items"
   ]
  },
  {
   "cell_type": "code",
   "execution_count": 37,
   "id": "e49f767c-ee45-4cbd-b91d-5923a31c7a69",
   "metadata": {},
   "outputs": [
    {
     "data": {
      "text/plain": [
       "name\n",
       "__fxstat64      0.000000\n",
       "__lxstat64      0.000000\n",
       "__xstat64       0.000000\n",
       "chdir           0.000000\n",
       "close           0.000000\n",
       "fcntl           0.000000\n",
       "lseek64         0.000000\n",
       "mkdir           0.000000\n",
       "open64          0.000000\n",
       "opendir         0.000000\n",
       "read          297.803209\n",
       "rmdir           0.000000\n",
       "write          18.526814\n",
       "Name: size, dtype: double[pyarrow]"
      ]
     },
     "execution_count": 37,
     "metadata": {},
     "output_type": "execute_result"
    }
   ],
   "source": [
    "analyzer.events.groupby(\"name\")[\"size\"].sum().compute() / 1024**3"
   ]
  },
  {
   "cell_type": "code",
   "execution_count": 38,
   "id": "3181e9d5-7203-48a9-9937-6e0e11062aa2",
   "metadata": {},
   "outputs": [
    {
     "data": {
      "text/plain": [
       "name\n",
       "__fxstat64     0.062672\n",
       "__lxstat64     0.010626\n",
       "__xstat64     38.989014\n",
       "chdir          0.009751\n",
       "close          0.370562\n",
       "fcntl          0.003346\n",
       "lseek64        0.582429\n",
       "mkdir          1.017002\n",
       "open64        65.112464\n",
       "opendir        0.005526\n",
       "read          78.777624\n",
       "rmdir          0.181852\n",
       "write          5.461378\n",
       "Name: io_time, dtype: double[pyarrow]"
      ]
     },
     "execution_count": 38,
     "metadata": {},
     "output_type": "execute_result"
    }
   ],
   "source": [
    "analyzer.events.groupby([\"trange\",\"pid\",\"tid\", \"name\"])[\"io_time\"].sum().groupby([\"trange\", \"name\"]).max().groupby([ \"name\"]).sum().compute() / 1e6"
   ]
  },
  {
   "cell_type": "code",
   "execution_count": 39,
   "id": "fcc4be8e-889b-4112-a2c4-11b546f9c6d5",
   "metadata": {},
   "outputs": [
    {
     "data": {
      "text/plain": [
       "name\n",
       "__fxstat64     134085\n",
       "__lxstat64        613\n",
       "__xstat64     2793041\n",
       "chdir            1378\n",
       "close          133027\n",
       "fcntl             613\n",
       "lseek64        993532\n",
       "mkdir          101346\n",
       "open64         182754\n",
       "opendir          1328\n",
       "read            27220\n",
       "rmdir             613\n",
       "write          131042\n",
       "Name: io_time, dtype: int64[pyarrow]"
      ]
     },
     "execution_count": 39,
     "metadata": {},
     "output_type": "execute_result"
    }
   ],
   "source": [
    "analyzer.events.groupby([\"trange\",\"pid\",\"tid\", \"name\"])[\"io_time\"].count().groupby([\"trange\", \"name\"]).sum().groupby([ \"name\"]).sum().compute()"
   ]
  },
  {
   "cell_type": "code",
   "execution_count": 40,
   "id": "5932c31e-931d-4c99-b75c-abe0e53f029a",
   "metadata": {},
   "outputs": [
    {
     "name": "stderr",
     "output_type": "stream",
     "text": [
      "/usr/WS2/haridev/venvs/venv-dlp_analuzer/lib/python3.9/site-packages/dask/dataframe/shuffle.py:1032: FutureWarning: Series.fillna with 'method' is deprecated and will raise in a future version. Use obj.ffill() or obj.bfill() instead.\n",
      "  mins = mins.fillna(method=\"bfill\").tolist()\n",
      "/usr/WS2/haridev/venvs/venv-dlp_analuzer/lib/python3.9/site-packages/dask/dataframe/shuffle.py:1033: FutureWarning: Series.fillna with 'method' is deprecated and will raise in a future version. Use obj.ffill() or obj.bfill() instead.\n",
      "  maxes = maxes.fillna(method=\"bfill\").tolist()\n"
     ]
    }
   ],
   "source": [
    "timeline = analyzer.plots._create_timeline( analyzer.events).compute()"
   ]
  },
  {
   "cell_type": "code",
   "execution_count": 41,
   "id": "759b786c-b9e9-45bb-9fda-ad987350e39d",
   "metadata": {},
   "outputs": [
    {
     "data": {
      "text/html": [
       "<div>\n",
       "<style scoped>\n",
       "    .dataframe tbody tr th:only-of-type {\n",
       "        vertical-align: middle;\n",
       "    }\n",
       "\n",
       "    .dataframe tbody tr th {\n",
       "        vertical-align: top;\n",
       "    }\n",
       "\n",
       "    .dataframe thead th {\n",
       "        text-align: right;\n",
       "    }\n",
       "</style>\n",
       "<table border=\"1\" class=\"dataframe\">\n",
       "  <thead>\n",
       "    <tr style=\"text-align: right;\">\n",
       "      <th></th>\n",
       "      <th>phase</th>\n",
       "      <th>index</th>\n",
       "      <th>size</th>\n",
       "      <th>io_time</th>\n",
       "      <th>app_io_time</th>\n",
       "    </tr>\n",
       "    <tr>\n",
       "      <th>trange</th>\n",
       "      <th></th>\n",
       "      <th></th>\n",
       "      <th></th>\n",
       "      <th></th>\n",
       "      <th></th>\n",
       "    </tr>\n",
       "  </thead>\n",
       "  <tbody>\n",
       "    <tr>\n",
       "      <th>0.0</th>\n",
       "      <td>2</td>\n",
       "      <td>26980</td>\n",
       "      <td>83569221721</td>\n",
       "      <td>20276776</td>\n",
       "      <td>0</td>\n",
       "    </tr>\n",
       "    <tr>\n",
       "      <th>1.0</th>\n",
       "      <td>2</td>\n",
       "      <td>20370</td>\n",
       "      <td>106289558574</td>\n",
       "      <td>29887190</td>\n",
       "      <td>0</td>\n",
       "    </tr>\n",
       "    <tr>\n",
       "      <th>2.0</th>\n",
       "      <td>2</td>\n",
       "      <td>20206</td>\n",
       "      <td>104076009743</td>\n",
       "      <td>26855887</td>\n",
       "      <td>0</td>\n",
       "    </tr>\n",
       "    <tr>\n",
       "      <th>3.0</th>\n",
       "      <td>2</td>\n",
       "      <td>15315</td>\n",
       "      <td>33793674947</td>\n",
       "      <td>9909920</td>\n",
       "      <td>0</td>\n",
       "    </tr>\n",
       "    <tr>\n",
       "      <th>4.0</th>\n",
       "      <td>2</td>\n",
       "      <td>12888</td>\n",
       "      <td>2036326833</td>\n",
       "      <td>3344295</td>\n",
       "      <td>0</td>\n",
       "    </tr>\n",
       "    <tr>\n",
       "      <th>5.0</th>\n",
       "      <td>2</td>\n",
       "      <td>12918</td>\n",
       "      <td>2052509591</td>\n",
       "      <td>3227027</td>\n",
       "      <td>0</td>\n",
       "    </tr>\n",
       "    <tr>\n",
       "      <th>6.0</th>\n",
       "      <td>2</td>\n",
       "      <td>13017</td>\n",
       "      <td>2049873026</td>\n",
       "      <td>2835722</td>\n",
       "      <td>0</td>\n",
       "    </tr>\n",
       "    <tr>\n",
       "      <th>7.0</th>\n",
       "      <td>2</td>\n",
       "      <td>12759</td>\n",
       "      <td>2022749559</td>\n",
       "      <td>2810273</td>\n",
       "      <td>0</td>\n",
       "    </tr>\n",
       "    <tr>\n",
       "      <th>8.0</th>\n",
       "      <td>2</td>\n",
       "      <td>12547</td>\n",
       "      <td>1983227782</td>\n",
       "      <td>8771249</td>\n",
       "      <td>0</td>\n",
       "    </tr>\n",
       "    <tr>\n",
       "      <th>9.0</th>\n",
       "      <td>2</td>\n",
       "      <td>7745</td>\n",
       "      <td>1228797245</td>\n",
       "      <td>8050718</td>\n",
       "      <td>0</td>\n",
       "    </tr>\n",
       "    <tr>\n",
       "      <th>10.0</th>\n",
       "      <td>2</td>\n",
       "      <td>3019</td>\n",
       "      <td>478362876</td>\n",
       "      <td>2257355</td>\n",
       "      <td>0</td>\n",
       "    </tr>\n",
       "    <tr>\n",
       "      <th>11.0</th>\n",
       "      <td>2</td>\n",
       "      <td>498</td>\n",
       "      <td>76464250</td>\n",
       "      <td>4401286</td>\n",
       "      <td>0</td>\n",
       "    </tr>\n",
       "  </tbody>\n",
       "</table>\n",
       "</div>"
      ],
      "text/plain": [
       "        phase  index          size   io_time  app_io_time\n",
       "trange                                                   \n",
       "0.0         2  26980   83569221721  20276776            0\n",
       "1.0         2  20370  106289558574  29887190            0\n",
       "2.0         2  20206  104076009743  26855887            0\n",
       "3.0         2  15315   33793674947   9909920            0\n",
       "4.0         2  12888    2036326833   3344295            0\n",
       "5.0         2  12918    2052509591   3227027            0\n",
       "6.0         2  13017    2049873026   2835722            0\n",
       "7.0         2  12759    2022749559   2810273            0\n",
       "8.0         2  12547    1983227782   8771249            0\n",
       "9.0         2   7745    1228797245   8050718            0\n",
       "10.0        2   3019     478362876   2257355            0\n",
       "11.0        2    498      76464250   4401286            0"
      ]
     },
     "execution_count": 41,
     "metadata": {},
     "output_type": "execute_result"
    }
   ],
   "source": [
    "timeline"
   ]
  },
  {
   "cell_type": "code",
   "execution_count": null,
   "id": "1f4f0f32-10f8-44ec-8233-ff265800096a",
   "metadata": {},
   "outputs": [],
   "source": []
  },
  {
   "cell_type": "code",
   "execution_count": 49,
   "id": "ad2d7964-1ef7-4bc3-808f-8aad6e1d6d8c",
   "metadata": {
    "scrolled": true
   },
   "outputs": [
    {
     "name": "stderr",
     "output_type": "stream",
     "text": [
      "/usr/WS2/haridev/venvs/venv-dlp_analuzer/lib/python3.9/site-packages/dask/dataframe/shuffle.py:1032: FutureWarning: Series.fillna with 'method' is deprecated and will raise in a future version. Use obj.ffill() or obj.bfill() instead.\n",
      "  mins = mins.fillna(method=\"bfill\").tolist()\n",
      "/usr/WS2/haridev/venvs/venv-dlp_analuzer/lib/python3.9/site-packages/dask/dataframe/shuffle.py:1033: FutureWarning: Series.fillna with 'method' is deprecated and will raise in a future version. Use obj.ffill() or obj.bfill() instead.\n",
      "  maxes = maxes.fillna(method=\"bfill\").tolist()\n"
     ]
    },
    {
     "data": {
      "image/png": "[encoded data removed]",
      "text/plain": [
       "<Figure size 800x300 with 2 Axes>"
      ]
     },
     "metadata": {},
     "output_type": "display_data"
    }
   ],
   "source": [
    "fig, ax1, ax2 = analyzer.plots.time_bw_timeline(\n",
    "    bw_unit='gb',\n",
    "    figsize=(8, 3),\n",
    "    line1_label='POSIX I/O Time',\n",
    "    line2_label='POSIX I/O Bandwidth',\n",
    "    time_col='io_time',\n",
    "    x_num_ticks=8,\n",
    "    y_num_ticks=5,\n",
    ")"
   ]
  },
  {
   "cell_type": "code",
   "execution_count": 50,
   "id": "479f5f05-1102-4ec1-bdfe-966b7f2a787b",
   "metadata": {},
   "outputs": [],
   "source": [
    "fig.savefig(f'{app_name}_posix_io_time.pdf', format='pdf', bbox_inches='tight')"
   ]
  },
  {
   "cell_type": "code",
   "execution_count": 44,
   "id": "f319b292-e247-41b7-b9e3-7f9592ad1d12",
   "metadata": {
    "scrolled": true
   },
   "outputs": [
    {
     "name": "stderr",
     "output_type": "stream",
     "text": [
      "/usr/WS2/haridev/venvs/venv-dlp_analuzer/lib/python3.9/site-packages/dask/dataframe/shuffle.py:1032: FutureWarning: Series.fillna with 'method' is deprecated and will raise in a future version. Use obj.ffill() or obj.bfill() instead.\n",
      "  mins = mins.fillna(method=\"bfill\").tolist()\n",
      "/usr/WS2/haridev/venvs/venv-dlp_analuzer/lib/python3.9/site-packages/dask/dataframe/shuffle.py:1033: FutureWarning: Series.fillna with 'method' is deprecated and will raise in a future version. Use obj.ffill() or obj.bfill() instead.\n",
      "  maxes = maxes.fillna(method=\"bfill\").tolist()\n"
     ]
    },
    {
     "ename": "TypeError",
     "evalue": "boolean value of NA is ambiguous",
     "output_type": "error",
     "traceback": [
      "\u001b[0;31m---------------------------------------------------------------------------\u001b[0m",
      "\u001b[0;31mTypeError\u001b[0m                                 Traceback (most recent call last)",
      "Cell \u001b[0;32mIn[44], line 1\u001b[0m\n\u001b[0;32m----> 1\u001b[0m fig, ax1, ax2 \u001b[38;5;241m=\u001b[39m \u001b[43manalyzer\u001b[49m\u001b[38;5;241;43m.\u001b[39;49m\u001b[43mplots\u001b[49m\u001b[38;5;241;43m.\u001b[39;49m\u001b[43mtime_bw_timeline\u001b[49m\u001b[43m(\u001b[49m\n\u001b[1;32m      2\u001b[0m \u001b[43m    \u001b[49m\u001b[43mbw_unit\u001b[49m\u001b[38;5;241;43m=\u001b[39;49m\u001b[38;5;124;43m'\u001b[39;49m\u001b[38;5;124;43mkb\u001b[39;49m\u001b[38;5;124;43m'\u001b[39;49m\u001b[43m,\u001b[49m\n\u001b[1;32m      3\u001b[0m \u001b[43m    \u001b[49m\u001b[43mfigsize\u001b[49m\u001b[38;5;241;43m=\u001b[39;49m\u001b[43m(\u001b[49m\u001b[38;5;241;43m8\u001b[39;49m\u001b[43m,\u001b[49m\u001b[43m \u001b[49m\u001b[38;5;241;43m3\u001b[39;49m\u001b[43m)\u001b[49m\u001b[43m,\u001b[49m\n\u001b[1;32m      4\u001b[0m \u001b[43m    \u001b[49m\u001b[43mline1_label\u001b[49m\u001b[38;5;241;43m=\u001b[39;49m\u001b[38;5;124;43m'\u001b[39;49m\u001b[38;5;124;43mApp. I/O Time\u001b[39;49m\u001b[38;5;124;43m'\u001b[39;49m\u001b[43m,\u001b[49m\n\u001b[1;32m      5\u001b[0m \u001b[43m    \u001b[49m\u001b[43mline2_label\u001b[49m\u001b[38;5;241;43m=\u001b[39;49m\u001b[38;5;124;43m'\u001b[39;49m\u001b[38;5;124;43mApp. I/O Bandwidth\u001b[39;49m\u001b[38;5;124;43m'\u001b[39;49m\u001b[43m,\u001b[49m\n\u001b[1;32m      6\u001b[0m \u001b[43m    \u001b[49m\u001b[43mtime_col\u001b[49m\u001b[38;5;241;43m=\u001b[39;49m\u001b[38;5;124;43m'\u001b[39;49m\u001b[38;5;124;43mapp_io_time\u001b[39;49m\u001b[38;5;124;43m'\u001b[39;49m\u001b[43m,\u001b[49m\n\u001b[1;32m      7\u001b[0m \u001b[43m    \u001b[49m\u001b[43mx_num_ticks\u001b[49m\u001b[38;5;241;43m=\u001b[39;49m\u001b[38;5;241;43m8\u001b[39;49m\u001b[43m,\u001b[49m\n\u001b[1;32m      8\u001b[0m \u001b[43m    \u001b[49m\u001b[43my_num_ticks\u001b[49m\u001b[38;5;241;43m=\u001b[39;49m\u001b[38;5;241;43m5\u001b[39;49m\u001b[43m,\u001b[49m\n\u001b[1;32m      9\u001b[0m \u001b[43m)\u001b[49m\n",
      "File \u001b[0;32m/usr/WS2/haridev/dlio-profiler/dlp_analyzer/plots.py:70\u001b[0m, in \u001b[0;36mDLPAnalyzerPlots.time_bw_timeline\u001b[0;34m(self, time_col, figsize, bw_unit, line1_label, line2_label, xlabel, y1label, y2label, x_num_ticks, y_num_ticks)\u001b[0m\n\u001b[1;32m     67\u001b[0m y2_max \u001b[38;5;241m=\u001b[39m np\u001b[38;5;241m.\u001b[39mmax([timeline\u001b[38;5;241m.\u001b[39mquery(\u001b[38;5;124mf\u001b[39m\u001b[38;5;124m\"\u001b[39m\u001b[38;5;124mphase == \u001b[39m\u001b[38;5;132;01m{\u001b[39;00mphase\u001b[38;5;132;01m}\u001b[39;00m\u001b[38;5;124m\"\u001b[39m)[\u001b[38;5;124mf\u001b[39m\u001b[38;5;124m\"\u001b[39m\u001b[38;5;132;01m{\u001b[39;00mtime_col\u001b[38;5;132;01m}\u001b[39;00m\u001b[38;5;124m_bw\u001b[39m\u001b[38;5;124m\"\u001b[39m]\u001b[38;5;241m.\u001b[39mmax()])\n\u001b[1;32m     69\u001b[0m has_y2 \u001b[38;5;241m=\u001b[39m \u001b[38;5;28;01mFalse\u001b[39;00m\n\u001b[0;32m---> 70\u001b[0m \u001b[38;5;28;01mif\u001b[39;00m y2_max \u001b[38;5;241m>\u001b[39m \u001b[38;5;241m0\u001b[39m:\n\u001b[1;32m     71\u001b[0m     timeline\u001b[38;5;241m.\u001b[39mquery(\u001b[38;5;124mf\u001b[39m\u001b[38;5;124m\"\u001b[39m\u001b[38;5;124mphase == \u001b[39m\u001b[38;5;132;01m{\u001b[39;00mphase\u001b[38;5;132;01m}\u001b[39;00m\u001b[38;5;124m\"\u001b[39m)\u001b[38;5;241m.\u001b[39mplot\u001b[38;5;241m.\u001b[39mline(ax\u001b[38;5;241m=\u001b[39max2, x\u001b[38;5;241m=\u001b[39m\u001b[38;5;124m'\u001b[39m\u001b[38;5;124mseconds\u001b[39m\u001b[38;5;124m'\u001b[39m, y\u001b[38;5;241m=\u001b[39m\u001b[38;5;124mf\u001b[39m\u001b[38;5;124m\"\u001b[39m\u001b[38;5;132;01m{\u001b[39;00mtime_col\u001b[38;5;132;01m}\u001b[39;00m\u001b[38;5;124m_bw\u001b[39m\u001b[38;5;124m\"\u001b[39m, linestyle\u001b[38;5;241m=\u001b[39m\u001b[38;5;124m'\u001b[39m\u001b[38;5;124mdashed\u001b[39m\u001b[38;5;124m'\u001b[39m,\n\u001b[1;32m     72\u001b[0m                        alpha\u001b[38;5;241m=\u001b[39m\u001b[38;5;241m0.8\u001b[39m, color\u001b[38;5;241m=\u001b[39m\u001b[38;5;124m'\u001b[39m\u001b[38;5;124mC1\u001b[39m\u001b[38;5;124m'\u001b[39m, label\u001b[38;5;241m=\u001b[39mline2_label)\n\u001b[1;32m     73\u001b[0m     y2_min \u001b[38;5;241m=\u001b[39m np\u001b[38;5;241m.\u001b[39mmin([timeline[\u001b[38;5;124mf\u001b[39m\u001b[38;5;124m\"\u001b[39m\u001b[38;5;132;01m{\u001b[39;00mtime_col\u001b[38;5;132;01m}\u001b[39;00m\u001b[38;5;124m_bw\u001b[39m\u001b[38;5;124m\"\u001b[39m]\u001b[38;5;241m.\u001b[39mmin()])\n",
      "File \u001b[0;32mmissing.pyx:419\u001b[0m, in \u001b[0;36mpandas._libs.missing.NAType.__bool__\u001b[0;34m()\u001b[0m\n",
      "\u001b[0;31mTypeError\u001b[0m: boolean value of NA is ambiguous"
     ]
    },
    {
     "data": {
      "image/png": "[encoded data removed]",
      "text/plain": [
       "<Figure size 800x300 with 2 Axes>"
      ]
     },
     "metadata": {},
     "output_type": "display_data"
    }
   ],
   "source": [
    "fig, ax1, ax2 = analyzer.plots.time_bw_timeline(\n",
    "    bw_unit='kb',\n",
    "    figsize=(8, 3),\n",
    "    line1_label='App. I/O Time',\n",
    "    line2_label='App. I/O Bandwidth',\n",
    "    time_col='app_io_time',\n",
    "    x_num_ticks=8,\n",
    "    y_num_ticks=5,\n",
    ")"
   ]
  },
  {
   "cell_type": "code",
   "execution_count": null,
   "id": "d8998e34-ad66-4fca-a7e9-45c4f7015862",
   "metadata": {},
   "outputs": [],
   "source": [
    "fig.savefig(f'{app_name}_app_io_time.pdf', format='pdf', bbox_inches='tight')"
   ]
  },
  {
   "cell_type": "code",
   "execution_count": 47,
   "id": "771c4a6f-88fc-4929-ab48-f87bf6de6098",
   "metadata": {},
   "outputs": [
    {
     "name": "stderr",
     "output_type": "stream",
     "text": [
      "/usr/WS2/haridev/venvs/venv-dlp_analuzer/lib/python3.9/site-packages/dask/dataframe/shuffle.py:1032: FutureWarning: Series.fillna with 'method' is deprecated and will raise in a future version. Use obj.ffill() or obj.bfill() instead.\n",
      "  mins = mins.fillna(method=\"bfill\").tolist()\n",
      "/usr/WS2/haridev/venvs/venv-dlp_analuzer/lib/python3.9/site-packages/dask/dataframe/shuffle.py:1033: FutureWarning: Series.fillna with 'method' is deprecated and will raise in a future version. Use obj.ffill() or obj.bfill() instead.\n",
      "  maxes = maxes.fillna(method=\"bfill\").tolist()\n"
     ]
    },
    {
     "data": {
      "image/png": "[encoded data removed]",
      "text/plain": [
       "<Figure size 800x300 with 1 Axes>"
      ]
     },
     "metadata": {},
     "output_type": "display_data"
    }
   ],
   "source": [
    "fig, ax = analyzer.plots.xfer_size_timeline(\n",
    "    figsize=(8, 3),\n",
    "    unit='mb',\n",
    "    x_num_ticks=8,\n",
    ")"
   ]
  },
  {
   "cell_type": "code",
   "execution_count": 48,
   "id": "d8f5b274-5727-479f-838c-dca3abd094f3",
   "metadata": {},
   "outputs": [],
   "source": [
    "fig.savefig(f'{app_name}_xfer_size.pdf', format='pdf', bbox_inches='tight')"
   ]
  },
  {
   "cell_type": "code",
   "execution_count": 29,
   "id": "9284c27d-598a-419d-a667-c8816ef3fb71",
   "metadata": {},
   "outputs": [
    {
     "data": {
      "text/plain": [
       "name\n",
       "__fxstat64        NaN\n",
       "__xstat64         NaN\n",
       "close             NaN\n",
       "lseek64           NaN\n",
       "open64            NaN\n",
       "opendir           NaN\n",
       "read          0.05467\n",
       "Name: size, dtype: double[pyarrow]"
      ]
     },
     "execution_count": 29,
     "metadata": {},
     "output_type": "execute_result"
    }
   ],
   "source": [
    "analyzer.events.query(\"cat == 'POSIX'\").groupby(\"name\")[\"size\"].mean().compute() / (1024**2)"
   ]
  },
  {
   "cell_type": "code",
   "execution_count": 29,
   "id": "e52cb7e7-5d51-4126-888b-ee847222b988",
   "metadata": {},
   "outputs": [
    {
     "data": {
      "text/plain": [
       "name\n",
       "__fxstat64     1.244447\n",
       "__xstat64      3.215289\n",
       "close          1.323762\n",
       "lseek64        0.346017\n",
       "open64         1.379163\n",
       "opendir        3.505572\n",
       "read          51.215883\n",
       "Name: io_time, dtype: double[pyarrow]"
      ]
     },
     "execution_count": 29,
     "metadata": {},
     "output_type": "execute_result"
    }
   ],
   "source": [
    "analyzer.events.query(\"cat == 'POSIX'\").groupby([\"trange\",\"pid\",\"tid\",\"name\"])[\"io_time\"].sum().groupby([\"trange\",\"name\"]).max().groupby(\"name\").sum().compute() / 1e6"
   ]
  },
  {
   "cell_type": "code",
   "execution_count": 30,
   "id": "f446524b-6ebb-496f-b595-9f0456fce540",
   "metadata": {},
   "outputs": [
    {
     "data": {
      "text/plain": [
       "io_time       min           0\n",
       "              max     3234048\n",
       "compute_time  min     5443261\n",
       "              max     5475947\n",
       "app_io_time   min      560089\n",
       "              max    46578050\n",
       "dtype: uint64[pyarrow]"
      ]
     },
     "execution_count": 30,
     "metadata": {},
     "output_type": "execute_result"
    }
   ],
   "source": [
    "val = analyzer.events.groupby([\"trange\"]).agg({\"io_time\":[min,max],\"compute_time\":[min,max],\"app_io_time\":[min,max]}).sum().compute()\n",
    "val"
   ]
  },
  {
   "cell_type": "code",
   "execution_count": 17,
   "id": "251dad2f-2e57-4473-bdf2-0a3ab1c4813e",
   "metadata": {},
   "outputs": [
    {
     "data": {
      "text/plain": [
       "21788614"
      ]
     },
     "execution_count": 17,
     "metadata": {},
     "output_type": "execute_result"
    }
   ],
   "source": [
    "val = analyzer.events[\"app_io_time\"].max().compute()\n",
    "val"
   ]
  },
  {
   "cell_type": "code",
   "execution_count": 22,
   "id": "58dfba53-d7e2-4370-a446-e57de17d17d5",
   "metadata": {},
   "outputs": [
    {
     "data": {
      "text/plain": [
       "105.51145505905151"
      ]
     },
     "execution_count": 22,
     "metadata": {},
     "output_type": "execute_result"
    }
   ],
   "source": [
    "import dask\n",
    "val1, val2 = dask.compute(analyzer.events[\"ts\"].min() /1e6 , analyzer.events[\"ts\"].max()/1e6)\n",
    "val2 - val1"
   ]
  },
  {
   "cell_type": "code",
   "execution_count": 19,
   "id": "556446aa-52a0-4bd0-b650-ab6a9c4ed68c",
   "metadata": {},
   "outputs": [
    {
     "data": {
      "text/plain": [
       "0    ruby165\n",
       "1    ruby926\n",
       "Name: hostname, dtype: string"
      ]
     },
     "execution_count": 19,
     "metadata": {},
     "output_type": "execute_result"
    }
   ],
   "source": [
    "analyzer.events[\"hostname\"].unique().compute()[:2]"
   ]
  },
  {
   "cell_type": "code",
   "execution_count": 23,
   "id": "42c8fafb-8354-466e-a12b-7d5e41e17c31",
   "metadata": {},
   "outputs": [
    {
     "data": {
      "text/plain": [
       "3.809511"
      ]
     },
     "execution_count": 23,
     "metadata": {},
     "output_type": "execute_result"
    }
   ],
   "source": [
    "analyzer.events.query(\"cat == 'POSIX'\").groupby([\"trange\",\"name\"])[\"dur\"].max().sum().compute() / 1e6"
   ]
  },
  {
   "cell_type": "code",
   "execution_count": null,
   "id": "fce6590b-20e9-4dff-9cde-7bdc4c9d714a",
   "metadata": {},
   "outputs": [],
   "source": [
    "analyzer.events.query(\"name == 'open'\").groupby(\"trange\")[\"dur\"].max().sum().compute() / 1e6"
   ]
  },
  {
   "cell_type": "code",
   "execution_count": 20,
   "id": "53cfa467-4b5c-4a2f-bff3-196dd3d92225",
   "metadata": {},
   "outputs": [
    {
     "data": {
      "text/plain": [
       "cat             name                                 \n",
       "POSIX           __xstat64                                      24806\n",
       "                close                                       24829534\n",
       "                open                                       245486865\n",
       "                opendir                                     13279902\n",
       "                pread                                    18136305739\n",
       "ai_framework    TFFramework.compute                        767751183\n",
       "                TFFramework.get_loader                          1482\n",
       "                TFFramework.init_loader                     42020267\n",
       "                TFFramework.is_nativeio_available                917\n",
       "                TFFramework.trace_object                      193915\n",
       "config          ConfigArguments.build_sample_map_iter     1479302011\n",
       "                ConfigArguments.derive_configurations         567405\n",
       "                ConfigArguments.reconfigure               1500802333\n",
       "                ConfigArguments.validate                   169328080\n",
       "data_loader     TFDataLoader.__init__                           4735\n",
       "                TFDataLoader.next                                499\n",
       "                TFDataLoader.read                         1228597951\n",
       "                TensorflowDataset.__new__                    7594021\n",
       "                TensorflowDataset._generator                   44979\n",
       "dlio_benchmark  DLIOBenchmark.__init__                    3441961915\n",
       "                DLIOBenchmark.initialize                   378341473\n",
       "                _train                                   11841786992\n",
       "                _train.iter                               1260463712\n",
       "reader          TFReader.__init__                              50948\n",
       "                TFReader.next                                   3513\n",
       "                TFReader.parse_image                       253296123\n",
       "storage         FileStorage.__init__                        18931525\n",
       "                FileStorage.create_namespace                   13873\n",
       "                FileStorage.get_node                          230437\n",
       "                FileStorage.get_uri                           848843\n",
       "                FileStorage.walk_node                       15560783\n",
       "POSIX           __fxstat64                                        18\n",
       "                lseek64                                           15\n",
       "                read                                              21\n",
       "                write                                             74\n",
       "Name: dur, dtype: uint64[pyarrow]"
      ]
     },
     "execution_count": 20,
     "metadata": {},
     "output_type": "execute_result"
    }
   ],
   "source": [
    "analyzer.events.groupby([\"cat\",\"name\"])[\"dur\"].sum().compute()"
   ]
  },
  {
   "cell_type": "code",
   "execution_count": 23,
   "id": "80672c5c-5a66-4d22-88b6-c97102ff5563",
   "metadata": {},
   "outputs": [
    {
     "data": {
      "text/plain": [
       "(0.9911281578947368,\n",
       " 0.26911763157894736,\n",
       " 0.28428078947368424,\n",
       " 0.04696078947368421,\n",
       " 0.371635)"
      ]
     },
     "execution_count": 23,
     "metadata": {},
     "output_type": "execute_result"
    }
   ],
   "source": [
    "3766287/3.8/1e6, 1022647/3.8/1e6, 1080267/3.8/1e6, 178451/3.8/1e6, (1259124+153089)/3.8/1e6"
   ]
  },
  {
   "cell_type": "code",
   "execution_count": 21,
   "id": "a5a3cedc-4536-4583-90d9-ac0530958d63",
   "metadata": {},
   "outputs": [
    {
     "name": "stderr",
     "output_type": "stream",
     "text": [
      "[INFO] [19:04:51]            index         size  total_time  io_time  app_io_time\n",
      "trange                                                         \n",
      "28310475  237503   3435904036     9089266  3197221      9089266\n",
      "28310476  557618   9055766762     5042545  2457928      5042545\n",
      "28310477  603290   9753737591     2734682  2119446      2734682\n",
      "28310478  655063  10582738192     3606051  2089019      3606051\n",
      "28310479  683200  11006549057     4613653  1930037      4613653 [/usr/WS2/haridev/dlio-profiler/dlp_analyzer/plots.py:224]\n",
      "[INFO] [19:04:51]            index         size  total_time  io_time  app_io_time\n",
      "trange                                                         \n",
      "28310475  237503   3435904036     9089266  3197221      9089266\n",
      "28310476  557618   9055766762     5042545  2457928      5042545\n",
      "28310477  603290   9753737591     2734682  2119446      2734682\n",
      "28310478  655063  10582738192     3606051  2089019      3606051\n",
      "28310479  683200  11006549057     4613653  1930037      4613653 [/usr/WS2/haridev/dlio-profiler/dlp_analyzer/plots.py:94]\n",
      "[INFO] [19:04:51]         index  size  total_time  io_time  app_io_time\n",
      "trange                                               \n",
      "1           1     1           1        1            1\n",
      "2           1     2           2        2            2 [/usr/WS2/haridev/dlio-profiler/dlp_analyzer/plots.py:69]\n"
     ]
    },
    {
     "data": {
      "text/plain": [
       "(<Figure size 800x400 with 1 Axes>,\n",
       " <Axes: xlabel='Timeline (sec)', ylabel='I/O Time (sec)'>)"
      ]
     },
     "execution_count": 21,
     "metadata": {},
     "output_type": "execute_result"
    },
    {
     "data": {
      "image/png": "[encoded data removed]",
      "text/plain": [
       "<Figure size 800x400 with 1 Axes>"
      ]
     },
     "metadata": {},
     "output_type": "display_data"
    }
   ],
   "source": [
    "analyzer.plots.bottleneck_timeline(figsize=(8, 4))"
   ]
  },
  {
   "cell_type": "code",
   "execution_count": null,
   "id": "08af42cf-6eee-42f2-8e1f-e89c2cc85db2",
   "metadata": {},
   "outputs": [],
   "source": [
    "analyzer.plots.bw_timeline(figsize=(4, 4), unit='KB')"
   ]
  },
  {
   "cell_type": "code",
   "execution_count": 35,
   "id": "f912e688-0de1-47c7-b7a5-266ca6603a5a",
   "metadata": {},
   "outputs": [
    {
     "name": "stderr",
     "output_type": "stream",
     "text": [
      "[INFO] [13:52:38]             index           size  total_time  io_time  app_io_time\n",
      "trange                                                            \n",
      "21229401  6398146  6057549130908    21788614  1320738     21788614\n",
      "21229402  5598058  6039041094497     5366465   299441      5366465 [/usr/WS2/haridev/dlio-profiler/dlp_analyzer/plots.py:224]\n"
     ]
    },
    {
     "data": {
      "text/plain": [
       "<Axes: xlabel='Transfer Sizes', ylabel='Frequency'>"
      ]
     },
     "execution_count": 35,
     "metadata": {},
     "output_type": "execute_result"
    },
    {
     "data": {
      "image/png": "[encoded data removed]",
      "text/plain": [
       "<Figure size 400x400 with 1 Axes>"
      ]
     },
     "metadata": {},
     "output_type": "display_data"
    }
   ],
   "source": [
    "analyzer.plots.xfer_size_distribution(figsize=(4, 4))"
   ]
  },
  {
   "cell_type": "code",
   "execution_count": null,
   "id": "0d3d86e7-9dc3-4256-b843-700179459b19",
   "metadata": {},
   "outputs": [],
   "source": []
  }
 ],
 "metadata": {
  "kernelspec": {
   "display_name": "Python 3 (ipykernel)",
   "language": "python",
   "name": "python3"
  },
  "language_info": {
   "codemirror_mode": {
    "name": "ipython",
    "version": 3
   },
   "file_extension": ".py",
   "mimetype": "text/x-python",
   "name": "python",
   "nbconvert_exporter": "python",
   "pygments_lexer": "ipython3",
   "version": "3.9.12"
  },
  "widgets": {
   "application/vnd.jupyter.widget-state+json": {
    "state": {},
    "version_major": 2,
    "version_minor": 0
   }
  }
 },
 "nbformat": 4,
 "nbformat_minor": 5
}
