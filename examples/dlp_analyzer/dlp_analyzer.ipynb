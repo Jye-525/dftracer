{
 "cells": [
  {
   "cell_type": "code",
   "execution_count": 2,
   "id": "86ed50dc-d4d6-4e78-be69-1d55b8362a46",
   "metadata": {
    "scrolled": true
   },
   "outputs": [],
   "source": [
    "%load_ext autoreload"
   ]
  },
  {
   "cell_type": "code",
   "execution_count": 3,
   "id": "93bc48a5-30a9-4108-88a6-59861bddd0ce",
   "metadata": {},
   "outputs": [],
   "source": [
    "%autoreload 2"
   ]
  },
  {
   "cell_type": "code",
   "execution_count": 4,
   "id": "4a47492d-40d0-4dea-b1a2-aa1f083239e3",
   "metadata": {},
   "outputs": [],
   "source": [
    "import json\n",
    "import os\n",
    "import yaml\n",
    "from dask.distributed import Client"
   ]
  },
  {
   "cell_type": "code",
   "execution_count": 5,
   "id": "edccd9aa",
   "metadata": {},
   "outputs": [
    {
     "name": "stdout",
     "output_type": "stream",
     "text": [
      "total 8\r\n",
      "-rwx------ 1 kogiou1 kogiou1 659 Nov  2 10:42 configuration.sh\r\n",
      "-rw------- 1 kogiou1 kogiou1  79 Nov  2 10:43 configuration.yaml\r\n"
     ]
    }
   ],
   "source": [
    "!ls -l ~/.dlio_profiler/"
   ]
  },
  {
   "cell_type": "code",
   "execution_count": 6,
   "id": "ef1dcd21-7001-47d4-b0e0-b9460b86556d",
   "metadata": {},
   "outputs": [],
   "source": [
    "with open('/g/g92/kogiou1/.dlio_profiler/configuration.yaml', 'r') as file:\n",
    "    dlp_yaml = yaml.safe_load(file)"
   ]
  },
  {
   "cell_type": "code",
   "execution_count": 7,
   "id": "c310a43c-006c-4c36-9d54-d7056e9c0519",
   "metadata": {},
   "outputs": [
    {
     "data": {
      "text/plain": [
       "['/usr/workspace/iopp/software/dlio-profiler',\n",
       " '/usr/WS2/iopp/software/dlio-profiler/examples/dlp_analyzer',\n",
       " '/collab/usr/gapps/python/build/spack-toss4.1/var/spack/environments/python/._view/75prb56irmif5ejtirjthpx6kq3gqo52/lib/python39.zip',\n",
       " '/collab/usr/gapps/python/build/spack-toss4.1/var/spack/environments/python/._view/75prb56irmif5ejtirjthpx6kq3gqo52/lib/python3.9',\n",
       " '/collab/usr/gapps/python/build/spack-toss4.1/var/spack/environments/python/._view/75prb56irmif5ejtirjthpx6kq3gqo52/lib/python3.9/lib-dynload',\n",
       " '',\n",
       " '/usr/workspace/iopp/software/dlio-profiler/venv/lib/python3.9/site-packages']"
      ]
     },
     "execution_count": 7,
     "metadata": {},
     "output_type": "execute_result"
    }
   ],
   "source": [
    "# to make this notebook in dev mode.\n",
    "import sys\n",
    "sys.path.insert(0,dlp_yaml[\"app\"])\n",
    "sys.path"
   ]
  },
  {
   "cell_type": "code",
   "execution_count": 8,
   "id": "89d58cc4-dd7a-47f8-82a6-6ef2ea9a2bc0",
   "metadata": {},
   "outputs": [
    {
     "name": "stdout",
     "output_type": "stream",
     "text": [
      "/usr/workspace/iopp/software/dlio-profiler/dlp_analyzer/__init__.py\n"
     ]
    }
   ],
   "source": [
    "import dlp_analyzer\n",
    "print(dlp_analyzer.__file__)\n",
    "from dlp_analyzer.main import DLPAnalyzer,get_dlp_configuration,update_dlp_configuration,setup_logging,setup_dask_cluster, reset_dask_cluster, get_dlp_configuration"
   ]
  },
  {
   "cell_type": "code",
   "execution_count": 9,
   "id": "dd08b66c-595c-4341-813c-7fabbaf70273",
   "metadata": {},
   "outputs": [
    {
     "data": {
      "text/plain": [
       "'/usr/workspace/iopp/software/dlio-profiler/dlp_analyzer/dask/run_dir'"
      ]
     },
     "execution_count": 9,
     "metadata": {},
     "output_type": "execute_result"
    }
   ],
   "source": [
    "dask_run_dir = os.path.join(dlp_yaml[\"app\"], \"dlp_analyzer\", \"dask\", \"run_dir\")\n",
    "dask_run_dir"
   ]
  },
  {
   "cell_type": "code",
   "execution_count": 10,
   "id": "43ec9989-5d6e-438c-8d34-0554d47deb69",
   "metadata": {},
   "outputs": [
    {
     "ename": "FileNotFoundError",
     "evalue": "[Errno 2] No such file or directory: '/usr/workspace/iopp/software/dlio-profiler/dlp_analyzer/dask/run_dir/scheduler.json'",
     "output_type": "error",
     "traceback": [
      "\u001b[0;31m---------------------------------------------------------------------------\u001b[0m",
      "\u001b[0;31mFileNotFoundError\u001b[0m                         Traceback (most recent call last)",
      "Cell \u001b[0;32mIn[10], line 1\u001b[0m\n\u001b[0;32m----> 1\u001b[0m \u001b[38;5;28;01mwith\u001b[39;00m \u001b[38;5;28;43mopen\u001b[39;49m\u001b[43m \u001b[49m\u001b[43m(\u001b[49m\u001b[43mos\u001b[49m\u001b[38;5;241;43m.\u001b[39;49m\u001b[43mpath\u001b[49m\u001b[38;5;241;43m.\u001b[39;49m\u001b[43mjoin\u001b[49m\u001b[43m(\u001b[49m\u001b[43mdask_run_dir\u001b[49m\u001b[43m,\u001b[49m\u001b[43m \u001b[49m\u001b[38;5;124;43m\"\u001b[39;49m\u001b[38;5;124;43mscheduler.json\u001b[39;49m\u001b[38;5;124;43m\"\u001b[39;49m\u001b[43m)\u001b[49m\u001b[43m,\u001b[49m\u001b[43m \u001b[49m\u001b[38;5;124;43m\"\u001b[39;49m\u001b[38;5;124;43mr\u001b[39;49m\u001b[38;5;124;43m\"\u001b[39;49m\u001b[43m)\u001b[49m \u001b[38;5;28;01mas\u001b[39;00m f:\n\u001b[1;32m      2\u001b[0m     dask_scheduler \u001b[38;5;241m=\u001b[39m json\u001b[38;5;241m.\u001b[39mload(f)\n\u001b[1;32m      3\u001b[0m dask_scheduler\n",
      "File \u001b[0;32m/usr/workspace/iopp/software/dlio-profiler/venv/lib/python3.9/site-packages/IPython/core/interactiveshell.py:308\u001b[0m, in \u001b[0;36m_modified_open\u001b[0;34m(file, *args, **kwargs)\u001b[0m\n\u001b[1;32m    301\u001b[0m \u001b[38;5;28;01mif\u001b[39;00m file \u001b[38;5;129;01min\u001b[39;00m {\u001b[38;5;241m0\u001b[39m, \u001b[38;5;241m1\u001b[39m, \u001b[38;5;241m2\u001b[39m}:\n\u001b[1;32m    302\u001b[0m     \u001b[38;5;28;01mraise\u001b[39;00m \u001b[38;5;167;01mValueError\u001b[39;00m(\n\u001b[1;32m    303\u001b[0m         \u001b[38;5;124mf\u001b[39m\u001b[38;5;124m\"\u001b[39m\u001b[38;5;124mIPython won\u001b[39m\u001b[38;5;124m'\u001b[39m\u001b[38;5;124mt let you open fd=\u001b[39m\u001b[38;5;132;01m{\u001b[39;00mfile\u001b[38;5;132;01m}\u001b[39;00m\u001b[38;5;124m by default \u001b[39m\u001b[38;5;124m\"\u001b[39m\n\u001b[1;32m    304\u001b[0m         \u001b[38;5;124m\"\u001b[39m\u001b[38;5;124mas it is likely to crash IPython. If you know what you are doing, \u001b[39m\u001b[38;5;124m\"\u001b[39m\n\u001b[1;32m    305\u001b[0m         \u001b[38;5;124m\"\u001b[39m\u001b[38;5;124myou can use builtins\u001b[39m\u001b[38;5;124m'\u001b[39m\u001b[38;5;124m open.\u001b[39m\u001b[38;5;124m\"\u001b[39m\n\u001b[1;32m    306\u001b[0m     )\n\u001b[0;32m--> 308\u001b[0m \u001b[38;5;28;01mreturn\u001b[39;00m \u001b[43mio_open\u001b[49m\u001b[43m(\u001b[49m\u001b[43mfile\u001b[49m\u001b[43m,\u001b[49m\u001b[43m \u001b[49m\u001b[38;5;241;43m*\u001b[39;49m\u001b[43margs\u001b[49m\u001b[43m,\u001b[49m\u001b[43m \u001b[49m\u001b[38;5;241;43m*\u001b[39;49m\u001b[38;5;241;43m*\u001b[39;49m\u001b[43mkwargs\u001b[49m\u001b[43m)\u001b[49m\n",
      "\u001b[0;31mFileNotFoundError\u001b[0m: [Errno 2] No such file or directory: '/usr/workspace/iopp/software/dlio-profiler/dlp_analyzer/dask/run_dir/scheduler.json'"
     ]
    }
   ],
   "source": [
    "with open (os.path.join(dask_run_dir, \"scheduler.json\"), \"r\") as f:\n",
    "    dask_scheduler = json.load(f)\n",
    "dask_scheduler"
   ]
  },
  {
   "cell_type": "code",
   "execution_count": 10,
   "id": "1b330315-f487-409a-b2c6-d6eab2894b87",
   "metadata": {},
   "outputs": [],
   "source": [
    "app_name = \"dlio_cosmoflow\" # resnet cosmoflow unet3d mummi deepspeed dlio_resnet dlio_cosmoflow"
   ]
  },
  {
   "cell_type": "code",
   "execution_count": 11,
   "id": "6fe1d34c-f607-4c29-ad3e-e199276fd30c",
   "metadata": {},
   "outputs": [],
   "source": [
    "def get_conditions_cosmoflow(json_object):\n",
    "    app_io_cond = \"TFReader.parse_image\" in json_object[\"name\"] # Cosmoflow\n",
    "    compute_cond = \"compute\" in json_object[\"name\"] # Cosmoflow\n",
    "    io_cond = \"POSIX\" == json_object[\"cat\"] # Cosmoflow\n",
    "    return app_io_cond, compute_cond, io_cond\n",
    "\n",
    "def get_conditions_resnet(json_object):\n",
    "    app_io_cond = \"IO\" == json_object[\"cat\"] # Resnet50\n",
    "    compute_cond = \"cpu\" in json_object[\"name\"] or \"compute\" in json_object[\"cat\"] # Resnet50\n",
    "    io_cond = \"POSIX\" == json_object[\"cat\"] # Cosmoflow\n",
    "    return app_io_cond, compute_cond, io_cond\n",
    "\n",
    "def get_conditions_unet3d(json_object):\n",
    "    app_io_cond = \"NPZReader.read_index\" in json_object[\"name\"] # Unet3d\n",
    "    compute_cond = \"compute\" in json_object[\"name\"] # Unet3d\n",
    "    io_cond = \"POSIX\" == json_object[\"cat\"] # Cosmoflow\n",
    "    return app_io_cond, compute_cond, io_cond\n",
    "\n",
    "def get_conditions_dlio_resnet(json_object):\n",
    "    app_io_cond = \"read_index\" in json_object[\"name\"] # Unet3d\n",
    "    compute_cond = \"compute\" in json_object[\"name\"] # Unet3d\n",
    "    io_cond = \"POSIX\" == json_object[\"cat\"] # Cosmoflow\n",
    "    return app_io_cond, compute_cond, io_cond\n"
   ]
  },
  {
   "cell_type": "code",
   "execution_count": 12,
   "id": "face72a1-485a-4168-b87a-2171aad37691",
   "metadata": {},
   "outputs": [],
   "source": [
    "condition_fn = None #\n",
    "if app_name == \"cosmoflow\":\n",
    "    filename = \"/usr/WS2/iopp/kogiou1/dlio_benchmark/hydra_log/cosmoflow/2023-10-31-10-27-24/.trace*.pfw.gz\"\n",
    "    condition_fn = get_conditions_cosmoflow\n",
    "elif app_name == \"dlio_cosmoflow\":\n",
    "    filename = \"/usr/workspace/iopp/kogiou1/dlio_benchmark/hydra_log/cosmoflow/2023-11-01-18-47-58/.trace*.pfw.gz\"\n",
    "    condition_fn = get_conditions_cosmoflow\n",
    "elif app_name == \"resnet\":\n",
    "    filename = \"/usr/workspace/iopp/dlio_paper_results/resnet_50_1node_4ppn/*.pfw.gz\"\n",
    "    condition_fn = get_conditions_resnet\n",
    "elif app_name == \"unet3d\":\n",
    "    filename = \"/usr/workspace/iopp/kogiou1/dlio_benchmark_logs/unet3d/node_32_ppn_4/.trace*.pfw.gz\"\n",
    "    condition_fn = get_conditions_unet3d\n",
    "elif app_name == \"mummi\":\n",
    "    filename = \"/usr/workspace/iopp/dlp_traces/mummi-32-node/trace*.pfw.gz\"\n",
    "elif app_name == \"deepspeed\":\n",
    "    filename = \"/usr/workspace/iopp/dlp_traces/deepspeed_8_4ppn/*.pfw.gz\"\n",
    "elif app_name == \"dlio_resnet\":\n",
    "    filename = \"/usr/workspace/iopp/kogiou1/dlio_benchmark/hydra_log/resnet50/2023-11-01-10-52-58/.trace*.pfw.gz\"\n",
    "    condition_fn = get_conditions_dlio_resnet\n",
    "else:\n",
    "    raise Exception(\"Unknown App name\")"
   ]
  },
  {
   "cell_type": "code",
   "execution_count": 13,
   "id": "d3a7cf5b-fbbc-4eee-9ed5-ce869f4541e6",
   "metadata": {},
   "outputs": [
    {
     "ename": "NameError",
     "evalue": "name 'dask_scheduler' is not defined",
     "output_type": "error",
     "traceback": [
      "\u001b[0;31m---------------------------------------------------------------------------\u001b[0m",
      "\u001b[0;31mNameError\u001b[0m                                 Traceback (most recent call last)",
      "Cell \u001b[0;32mIn[13], line 1\u001b[0m\n\u001b[0;32m----> 1\u001b[0m conf \u001b[38;5;241m=\u001b[39m update_dlp_configuration(dask_scheduler\u001b[38;5;241m=\u001b[39m\u001b[43mdask_scheduler\u001b[49m[\u001b[38;5;124m\"\u001b[39m\u001b[38;5;124maddress\u001b[39m\u001b[38;5;124m\"\u001b[39m], verbose\u001b[38;5;241m=\u001b[39m\u001b[38;5;28;01mTrue\u001b[39;00m, \n\u001b[1;32m      2\u001b[0m                                 log_file\u001b[38;5;241m=\u001b[39m\u001b[38;5;124m\"\u001b[39m\u001b[38;5;124m./dlp.log\u001b[39m\u001b[38;5;124m\"\u001b[39m, rebuild_index\u001b[38;5;241m=\u001b[39m\u001b[38;5;28;01mFalse\u001b[39;00m, time_approximate\u001b[38;5;241m=\u001b[39m\u001b[38;5;28;01mTrue\u001b[39;00m, \n\u001b[1;32m      3\u001b[0m                                 host_pattern\u001b[38;5;241m=\u001b[39m\u001b[38;5;124mr\u001b[39m\u001b[38;5;124m'\u001b[39m\u001b[38;5;124mlassen(\u001b[39m\u001b[38;5;124m\\\u001b[39m\u001b[38;5;124md+)\u001b[39m\u001b[38;5;124m'\u001b[39m, time_granularity\u001b[38;5;241m=\u001b[39m\u001b[38;5;241m3600e6\u001b[39m, skip_hostname\u001b[38;5;241m=\u001b[39m\u001b[38;5;28;01mTrue\u001b[39;00m, conditions\u001b[38;5;241m=\u001b[39mcondition_fn)\n",
      "\u001b[0;31mNameError\u001b[0m: name 'dask_scheduler' is not defined"
     ]
    }
   ],
   "source": [
    "conf = update_dlp_configuration(dask_scheduler=dask_scheduler[\"address\"], verbose=True, \n",
    "                                log_file=\"./dlp.log\", rebuild_index=False, time_approximate=True, \n",
    "                                host_pattern=r'lassen(\\d+)', time_granularity=3600e6, skip_hostname=True, conditions=condition_fn)\n"
   ]
  },
  {
   "cell_type": "code",
   "execution_count": null,
   "id": "9ae31f27-a26a-463a-b2e9-3adba8de7246",
   "metadata": {
    "scrolled": true
   },
   "outputs": [],
   "source": [
    "conf = get_dlp_configuration()\n",
    "conf.time_approximate"
   ]
  },
  {
   "cell_type": "code",
   "execution_count": 14,
   "id": "04428959-820f-4466-8ceb-778bcce93bf0",
   "metadata": {},
   "outputs": [],
   "source": [
    "setup_logging()"
   ]
  },
  {
   "cell_type": "code",
   "execution_count": 15,
   "id": "68e813b7-6b95-4f31-b223-1fb50774db50",
   "metadata": {},
   "outputs": [
    {
     "name": "stderr",
     "output_type": "stream",
     "text": [
      "/usr/workspace/iopp/software/dlio-profiler/venv/lib/python3.9/site-packages/distributed/node.py:182: UserWarning: Port 8787 is already in use.\n",
      "Perhaps you already have a cluster running?\n",
      "Hosting the HTTP server on port 33013 instead\n",
      "  warnings.warn(\n"
     ]
    }
   ],
   "source": [
    "setup_dask_cluster()"
   ]
  },
  {
   "cell_type": "code",
   "execution_count": 16,
   "id": "236e50a4-03b6-4895-a0a5-d473f5e391b5",
   "metadata": {
    "scrolled": true
   },
   "outputs": [
    {
     "name": "stderr",
     "output_type": "stream",
     "text": [
      "2023-11-07 18:24:20,963 - distributed.nanny - WARNING - Restarting worker\n",
      "2023-11-07 18:24:20,984 - distributed.nanny - WARNING - Restarting worker\n",
      "2023-11-07 18:24:21,005 - distributed.nanny - WARNING - Restarting worker\n",
      "2023-11-07 18:24:21,017 - distributed.nanny - WARNING - Restarting worker\n"
     ]
    }
   ],
   "source": [
    "reset_dask_cluster()"
   ]
  },
  {
   "cell_type": "code",
   "execution_count": null,
   "id": "b37727ee-a221-43ab-81e1-cdf98c2cf314",
   "metadata": {
    "scrolled": true
   },
   "outputs": [],
   "source": [
    "analyzer = DLPAnalyzer(filename)"
   ]
  },
  {
   "cell_type": "code",
   "execution_count": null,
   "id": "c8c4b2d0-76c4-46df-9a35-068c98aaa7f8",
   "metadata": {},
   "outputs": [],
   "source": [
    "analyzer.events.head()"
   ]
  },
  {
   "cell_type": "code",
   "execution_count": null,
   "id": "34c6fa12-ce7f-4bc9-b24e-c3b59b739147",
   "metadata": {
    "scrolled": true
   },
   "outputs": [],
   "source": [
    "#analyzer.events[[\"io_time\",\"compute_time\",\"app_io_time\"]].max().compute() / 1e6"
   ]
  },
  {
   "cell_type": "code",
   "execution_count": null,
   "id": "f057a7a8-e3b3-4ed6-b1b9-769d52c7be4d",
   "metadata": {
    "scrolled": true
   },
   "outputs": [],
   "source": [
    "# hydra_log/cosmoflow/2023-11-01-18-47-58/\n",
    "items = analyzer.summary()\n",
    "items"
   ]
  },
  {
   "cell_type": "code",
   "execution_count": null,
   "id": "e49f767c-ee45-4cbd-b91d-5923a31c7a69",
   "metadata": {
    "scrolled": true
   },
   "outputs": [],
   "source": [
    "analyzer.events.groupby(\"name\")[\"size\"].sum().compute() / 1024**3"
   ]
  },
  {
   "cell_type": "code",
   "execution_count": null,
   "id": "3181e9d5-7203-48a9-9937-6e0e11062aa2",
   "metadata": {},
   "outputs": [],
   "source": [
    "analyzer.events.groupby([\"trange\",\"pid\",\"tid\", \"name\"])[\"io_time\"].sum().groupby([\"trange\", \"name\"]).max().groupby([ \"name\"]).sum().compute() / 1e6"
   ]
  },
  {
   "cell_type": "code",
   "execution_count": null,
   "id": "fcc4be8e-889b-4112-a2c4-11b546f9c6d5",
   "metadata": {
    "scrolled": true
   },
   "outputs": [],
   "source": [
    "analyzer.events.groupby([\"trange\",\"pid\",\"tid\", \"name\"])[\"io_time\"].count().groupby([\"trange\", \"name\"]).sum().groupby([ \"name\"]).sum().compute()"
   ]
  },
  {
   "cell_type": "code",
   "execution_count": null,
   "id": "5932c31e-931d-4c99-b75c-abe0e53f029a",
   "metadata": {},
   "outputs": [],
   "source": [
    "timeline = analyzer.plots._create_timeline( analyzer.events).compute()"
   ]
  },
  {
   "cell_type": "code",
   "execution_count": null,
   "id": "759b786c-b9e9-45bb-9fda-ad987350e39d",
   "metadata": {},
   "outputs": [],
   "source": [
    "timeline"
   ]
  },
  {
   "cell_type": "code",
   "execution_count": null,
   "id": "1f4f0f32-10f8-44ec-8233-ff265800096a",
   "metadata": {},
   "outputs": [],
   "source": []
  },
  {
   "cell_type": "code",
   "execution_count": null,
   "id": "ad2d7964-1ef7-4bc3-808f-8aad6e1d6d8c",
   "metadata": {
    "scrolled": true
   },
   "outputs": [],
   "source": [
    "fig, ax1, ax2 = analyzer.plots.time_bw_timeline(\n",
    "    bw_unit='gb',\n",
    "    figsize=(8, 3),\n",
    "    line1_label='POSIX I/O Time',\n",
    "    line2_label='POSIX I/O Bandwidth',\n",
    "    time_col='io_time',\n",
    "    x_num_ticks=8,\n",
    "    y_num_ticks=5,\n",
    ")"
   ]
  },
  {
   "cell_type": "code",
   "execution_count": null,
   "id": "479f5f05-1102-4ec1-bdfe-966b7f2a787b",
   "metadata": {},
   "outputs": [],
   "source": [
    "fig.savefig(f'{app_name}_posix_io_time.pdf', format='pdf', bbox_inches='tight')"
   ]
  },
  {
   "cell_type": "code",
   "execution_count": null,
   "id": "f319b292-e247-41b7-b9e3-7f9592ad1d12",
   "metadata": {
    "scrolled": true
   },
   "outputs": [],
   "source": [
    "fig, ax1, ax2 = analyzer.plots.time_bw_timeline(\n",
    "    bw_unit='gb',\n",
    "    figsize=(8, 3),\n",
    "    line1_label='App. I/O Time',\n",
    "    line2_label='App. I/O Bandwidth',\n",
    "    time_col='app_io_time',\n",
    "    x_num_ticks=8,\n",
    "    y_num_ticks=5,\n",
    ")"
   ]
  },
  {
   "cell_type": "code",
   "execution_count": null,
   "id": "d8998e34-ad66-4fca-a7e9-45c4f7015862",
   "metadata": {},
   "outputs": [],
   "source": [
    "fig.savefig(f'{app_name}_app_io_time.pdf', format='pdf', bbox_inches='tight')"
   ]
  },
  {
   "cell_type": "code",
   "execution_count": null,
   "id": "771c4a6f-88fc-4929-ab48-f87bf6de6098",
   "metadata": {},
   "outputs": [],
   "source": [
    "fig, ax = analyzer.plots.xfer_size_timeline(\n",
    "    figsize=(8, 3),\n",
    "    unit='kb',\n",
    "    x_num_ticks=8,\n",
    ")"
   ]
  },
  {
   "cell_type": "code",
   "execution_count": null,
   "id": "d8f5b274-5727-479f-838c-dca3abd094f3",
   "metadata": {},
   "outputs": [],
   "source": [
    "fig.savefig(f'{app_name}_xfer_size.pdf', format='pdf', bbox_inches='tight')"
   ]
  },
  {
   "cell_type": "code",
   "execution_count": null,
   "id": "9284c27d-598a-419d-a667-c8816ef3fb71",
   "metadata": {},
   "outputs": [],
   "source": [
    "analyzer.events.query(\"cat == 'POSIX'\").groupby(\"name\")[\"size\"].mean().compute() / (1024**2)"
   ]
  },
  {
   "cell_type": "code",
   "execution_count": null,
   "id": "e52cb7e7-5d51-4126-888b-ee847222b988",
   "metadata": {},
   "outputs": [],
   "source": [
    "analyzer.events.query(\"cat == 'POSIX'\").groupby([\"trange\",\"pid\",\"tid\",\"name\"])[\"io_time\"].sum().groupby([\"trange\",\"name\"]).max().groupby(\"name\").sum().compute() / 1e6"
   ]
  },
  {
   "cell_type": "code",
   "execution_count": null,
   "id": "f446524b-6ebb-496f-b595-9f0456fce540",
   "metadata": {},
   "outputs": [],
   "source": [
    "val = analyzer.events.groupby([\"trange\"]).agg({\"io_time\":[min,max],\"compute_time\":[min,max],\"app_io_time\":[min,max]}).sum().compute()\n",
    "val"
   ]
  },
  {
   "cell_type": "code",
   "execution_count": null,
   "id": "251dad2f-2e57-4473-bdf2-0a3ab1c4813e",
   "metadata": {},
   "outputs": [],
   "source": [
    "val = analyzer.events[\"app_io_time\"].max().compute()\n",
    "val"
   ]
  },
  {
   "cell_type": "code",
   "execution_count": null,
   "id": "58dfba53-d7e2-4370-a446-e57de17d17d5",
   "metadata": {},
   "outputs": [],
   "source": [
    "import dask\n",
    "val1, val2 = dask.compute(analyzer.events[\"ts\"].min() /1e6 , analyzer.events[\"ts\"].max()/1e6)\n",
    "val2 - val1"
   ]
  },
  {
   "cell_type": "code",
   "execution_count": null,
   "id": "556446aa-52a0-4bd0-b650-ab6a9c4ed68c",
   "metadata": {},
   "outputs": [],
   "source": [
    "analyzer.events[\"hostname\"].unique().compute()[:2]"
   ]
  },
  {
   "cell_type": "code",
   "execution_count": null,
   "id": "42c8fafb-8354-466e-a12b-7d5e41e17c31",
   "metadata": {},
   "outputs": [],
   "source": [
    "analyzer.events.query(\"cat == 'POSIX'\").groupby([\"trange\",\"name\"])[\"dur\"].max().sum().compute() / 1e6"
   ]
  },
  {
   "cell_type": "code",
   "execution_count": null,
   "id": "fce6590b-20e9-4dff-9cde-7bdc4c9d714a",
   "metadata": {},
   "outputs": [],
   "source": [
    "analyzer.events.query(\"name == 'open'\").groupby(\"trange\")[\"dur\"].max().sum().compute() / 1e6"
   ]
  },
  {
   "cell_type": "code",
   "execution_count": null,
   "id": "53cfa467-4b5c-4a2f-bff3-196dd3d92225",
   "metadata": {},
   "outputs": [],
   "source": [
    "analyzer.events.groupby([\"cat\",\"name\"])[\"dur\"].sum().compute()"
   ]
  },
  {
   "cell_type": "code",
   "execution_count": null,
   "id": "80672c5c-5a66-4d22-88b6-c97102ff5563",
   "metadata": {},
   "outputs": [],
   "source": [
    "3766287/3.8/1e6, 1022647/3.8/1e6, 1080267/3.8/1e6, 178451/3.8/1e6, (1259124+153089)/3.8/1e6"
   ]
  },
  {
   "cell_type": "code",
   "execution_count": null,
   "id": "a5a3cedc-4536-4583-90d9-ac0530958d63",
   "metadata": {},
   "outputs": [],
   "source": [
    "analyzer.plots.bottleneck_timeline(figsize=(8, 4))"
   ]
  },
  {
   "cell_type": "code",
   "execution_count": null,
   "id": "08af42cf-6eee-42f2-8e1f-e89c2cc85db2",
   "metadata": {},
   "outputs": [],
   "source": [
    "analyzer.plots.bw_timeline(figsize=(4, 4), unit='KB')"
   ]
  },
  {
   "cell_type": "code",
   "execution_count": null,
   "id": "f912e688-0de1-47c7-b7a5-266ca6603a5a",
   "metadata": {},
   "outputs": [],
   "source": [
    "analyzer.plots.xfer_size_distribution(figsize=(4, 4))"
   ]
  },
  {
   "cell_type": "code",
   "execution_count": null,
   "id": "0d3d86e7-9dc3-4256-b843-700179459b19",
   "metadata": {},
   "outputs": [],
   "source": []
  }
 ],
 "metadata": {
  "kernelspec": {
   "display_name": "dlp-kernel",
   "language": "python",
   "name": "dlp-kernel"
  },
  "language_info": {
   "codemirror_mode": {
    "name": "ipython",
    "version": 3
   },
   "file_extension": ".py",
   "mimetype": "text/x-python",
   "name": "python",
   "nbconvert_exporter": "python",
   "pygments_lexer": "ipython3",
   "version": "3.9.12"
  },
  "widgets": {
   "application/vnd.jupyter.widget-state+json": {
    "state": {},
    "version_major": 2,
    "version_minor": 0
   }
  }
 },
 "nbformat": 4,
 "nbformat_minor": 5
}
